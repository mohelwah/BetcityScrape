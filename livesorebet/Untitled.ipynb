{
 "cells": [
  {
   "cell_type": "code",
   "execution_count": 1,
   "id": "928d0a0a-d38b-4218-9a03-66936e81b501",
   "metadata": {},
   "outputs": [
    {
     "name": "stdout",
     "output_type": "stream",
     "text": [
      "This from excel\n"
     ]
    }
   ],
   "source": [
    "import requests\n",
    "import json\n",
    "import pandas as pd\n",
    "\n",
    "\n",
    "x = pd.Series([1,2,3], index=['s','b','d'])\n",
    "print('This from excel')\n",
    "df=pd.DataFrame(x)\n",
    "\n",
    "df.to_csv('data.csv')"
   ]
  },
  {
   "cell_type": "code",
   "execution_count": null,
   "id": "447626e9-d76a-4cc8-ae18-4691b01ac35f",
   "metadata": {},
   "outputs": [],
   "source": [
    "df.to_excel"
   ]
  },
  {
   "cell_type": "code",
   "execution_count": 6,
   "id": "2c6eb871",
   "metadata": {},
   "outputs": [],
   "source": [
    "from selenium import webdriver\n",
    "from selenium.webdriver.common.keys import Keys\n",
    "from selenium.webdriver.chrome.options import Options\n",
    "from selenium.webdriver.support.ui import Select\n",
    "from selenium.webdriver.common.by import By\n",
    "from selenium.webdriver.support.ui import WebDriverWait\n",
    "from selenium.webdriver.support import expected_conditions as EC\n",
    "from selenium.webdriver.support.select import Select\n",
    "from selenium.webdriver.common.action_chains import ActionChains\n",
    "\n",
    "\n",
    "\n"
   ]
  },
  {
   "cell_type": "code",
   "execution_count": 3,
   "id": "b2d9a841",
   "metadata": {},
   "outputs": [
    {
     "name": "stderr",
     "output_type": "stream",
     "text": [
      "<ipython-input-3-9e955d9db116>:9: DeprecationWarning: executable_path has been deprecated, please pass in a Service object\n",
      "  driver = webdriver.Chrome(executable_path='C:\\webdriver\\chromedriver.exe')\n"
     ]
    }
   ],
   "source": [
    "# imoprt selenium\n",
    "from selenium import webdriver\n",
    "from selenium.webdriver.common.keys import Keys\n",
    "from selenium.webdriver.support.ui import WebDriverWait\n",
    "\n",
    "\n",
    "\n",
    "# create a new chrome session\n",
    "driver = webdriver.Chrome(executable_path='C:\\webdriver\\chromedriver.exe')\n",
    "driver.implicitly_wait(30)\n",
    "driver.maximize_window()\n",
    "driver.get(\"https://www.google.com\")"
   ]
  },
  {
   "cell_type": "code",
   "execution_count": 4,
   "id": "c04e126d",
   "metadata": {},
   "outputs": [],
   "source": [
    "driver.get('https://www.livescorebet.com/uk/sports/volleyball/argentina-serie-a1-women/SBTC3_68995')"
   ]
  },
  {
   "cell_type": "code",
   "execution_count": 10,
   "id": "207c9bbb",
   "metadata": {},
   "outputs": [],
   "source": [
    "matches = driver.find_elements(By.CLASS_NAME, \"effrky-4\")"
   ]
  },
  {
   "cell_type": "code",
   "execution_count": 11,
   "id": "d4413a73",
   "metadata": {},
   "outputs": [
    {
     "data": {
      "text/plain": [
       "'https://www.livescorebet.com/uk/sports/volleyball/argentina-serie-a1-women/club-san-jose-w-vs-tucuman-de-gimnasia-w/SBTE_28441689'"
      ]
     },
     "execution_count": 11,
     "metadata": {},
     "output_type": "execute_result"
    }
   ],
   "source": [
    "matches[0].find_element(By.XPATH, \".//a\").get_attribute('href')"
   ]
  },
  {
   "cell_type": "code",
   "execution_count": 15,
   "id": "40e6d220",
   "metadata": {},
   "outputs": [],
   "source": [
    "date =matches[0].find_element(By.XPATH, \".//span[@class='sc-17p8rfo-0 dzNdgZ']\").text"
   ]
  },
  {
   "cell_type": "code",
   "execution_count": 16,
   "id": "7c61dc30",
   "metadata": {},
   "outputs": [
    {
     "data": {
      "text/plain": [
       "['Tomorrow,', '01:00']"
      ]
     },
     "execution_count": 16,
     "metadata": {},
     "output_type": "execute_result"
    }
   ],
   "source": [
    "date.split()"
   ]
  },
  {
   "cell_type": "code",
   "execution_count": null,
   "id": "2f2b52e3",
   "metadata": {},
   "outputs": [],
   "source": []
  }
 ],
 "metadata": {
  "kernelspec": {
   "display_name": "base",
   "language": "python",
   "name": "python3"
  },
  "language_info": {
   "codemirror_mode": {
    "name": "ipython",
    "version": 3
   },
   "file_extension": ".py",
   "mimetype": "text/x-python",
   "name": "python",
   "nbconvert_exporter": "python",
   "pygments_lexer": "ipython3",
   "version": "3.8.8"
  },
  "vscode": {
   "interpreter": {
    "hash": "ad2bdc8ecc057115af97d19610ffacc2b4e99fae6737bb82f5d7fb13d2f2c186"
   }
  }
 },
 "nbformat": 4,
 "nbformat_minor": 5
}
