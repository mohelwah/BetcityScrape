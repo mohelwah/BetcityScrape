{
 "cells": [
  {
   "cell_type": "code",
   "execution_count": 1,
   "id": "2c6eb871",
   "metadata": {},
   "outputs": [],
   "source": [
    "from selenium import webdriver\n",
    "from selenium.webdriver.common.keys import Keys\n",
    "from selenium.webdriver.chrome.options import Options\n",
    "from selenium.webdriver.support.ui import Select\n",
    "from selenium.webdriver.common.by import By\n",
    "from selenium.webdriver.support.ui import WebDriverWait\n",
    "from selenium.webdriver.support import expected_conditions as EC\n",
    "from selenium.webdriver.support.select import Select\n",
    "from selenium.webdriver.common.action_chains import ActionChains\n",
    "import time"
   ]
  },
  {
   "cell_type": "code",
   "execution_count": 6,
   "id": "893abc58",
   "metadata": {},
   "outputs": [
    {
     "name": "stderr",
     "output_type": "stream",
     "text": [
      "C:\\Users\\Admin\\AppData\\Local\\Temp\\ipykernel_9016\\2973221822.py:3: DeprecationWarning: executable_path has been deprecated, please pass in a Service object\n",
      "  driver = webdriver.Chrome(executable_path=executable_path)\n"
     ]
    }
   ],
   "source": [
    "try:\n",
    "    executable_path = \"C:\\webdriver\\chromedriver.exe\"\n",
    "    driver = webdriver.Chrome(executable_path=executable_path)\n",
    "except:\n",
    "    driver = webdriver.Chrome()\n",
    "\n",
    "driver.get(\"https://www.livescorebet.com/\")"
   ]
  },
  {
   "attachments": {},
   "cell_type": "markdown",
   "id": "deb2daf7",
   "metadata": {},
   "source": [
    "## main volleyball page:"
   ]
  },
  {
   "cell_type": "code",
   "execution_count": 2,
   "id": "18c9e223",
   "metadata": {},
   "outputs": [],
   "source": [
    "url = 'https://www.livescorebet.com/uk/sports/volleyball/argentina-serie-a1-women/SBTC3_68995'\n",
    "executable_path = \"C:\\webdriver\\chromedriver.exe\"\n",
    "try:\n",
    "    driver = webdriver.Chrome(executable_path=executable_path)\n",
    "except:\n",
    "    driver = webdriver.Chrome()\n",
    "    \n",
    "driver.get(url)"
   ]
  },
  {
   "cell_type": "code",
   "execution_count": 5,
   "id": "675cf177",
   "metadata": {},
   "outputs": [
    {
     "name": "stderr",
     "output_type": "stream",
     "text": [
      "C:\\Users\\root\\AppData\\Local\\Temp\\ipykernel_12792\\3593300728.py:3: DeprecationWarning: executable_path has been deprecated, please pass in a Service object\n",
      "  driver = webdriver.Chrome(executable_path=executable_path)\n"
     ]
    }
   ],
   "source": [
    "executable_path = \"C:\\webdriver\\chromedriver.exe\"\n",
    "try:\n",
    "    driver = webdriver.Chrome(executable_path=executable_path)\n",
    "except:\n",
    "    driver = webdriver.Chrome()\n",
    "    \n",
    "driver.get(url)"
   ]
  },
  {
   "cell_type": "code",
   "execution_count": 7,
   "id": "c04e126d",
   "metadata": {},
   "outputs": [],
   "source": [
    "matches = driver.find_elements(By.CLASS_NAME, \"effrky-4\")"
   ]
  },
  {
   "cell_type": "code",
   "execution_count": 19,
   "id": "207c9bbb",
   "metadata": {},
   "outputs": [
    {
     "name": "stdout",
     "output_type": "stream",
     "text": [
      "Tomorrow, 01:00 https://www.livescorebet.com/uk/sports/volleyball/argentina-serie-a1-women/club-san-jose-w-vs-tucuman-de-gimnasia-w/SBTE_28441689 20\n",
      "Tomorrow, 01:00 https://www.livescorebet.com/uk/sports/volleyball/argentina-serie-a1-women/estudiantes-de-la-plata-w-vs-nautico-rosario-w/SBTE_28441690 20\n",
      "Tomorrow, 01:00 https://www.livescorebet.com/uk/sports/volleyball/argentina-serie-a1-women/ferro-carril-oeste-w-vs-unlam-w/SBTE_28441955 20\n",
      "Tomorrow, 02:00 https://www.livescorebet.com/uk/sports/volleyball/argentina-serie-a1-women/gimnasia-la-plata-w-vs-villa-dora-w/SBTE_28441691 20\n",
      "Tomorrow, 02:00 https://www.livescorebet.com/uk/sports/volleyball/argentina-serie-a1-women/san-lorenzo-w-vs-la-matanza-deportes-w/SBTE_28441949 20\n"
     ]
    }
   ],
   "source": [
    "for match in matches:\n",
    "    date = match.find_element(By.XPATH, \".//span[@class='sc-17p8rfo-0 dzNdgZ']\").text\n",
    "    link = match.find_element(By.XPATH, \".//a\").get_attribute(\"href\")\n",
    "    day = match.find_element(By.XPATH, \".//span[@class='sc-17p8rfo-0 dzNdgZ']\").text.split(sep=\",\")[0]\n",
    "    if day == \"Today\":\n",
    "        day = time.localtime()[2]\n",
    "    elif day == \"Tomorrow\":\n",
    "        day = time.localtime()[2] + 1\n",
    "    else:\n",
    "        day = day\n",
    "    print(date, link,day)\n"
   ]
  },
  {
   "cell_type": "code",
   "execution_count": 10,
   "id": "d4413a73",
   "metadata": {},
   "outputs": [
    {
     "data": {
      "text/plain": [
       "'https://www.livescorebet.com/uk/sports/volleyball/argentina-serie-a1-women/club-san-jose-w-vs-tucuman-de-gimnasia-w/SBTE_28441689'"
      ]
     },
     "execution_count": 10,
     "metadata": {},
     "output_type": "execute_result"
    }
   ],
   "source": [
    "matches[0].find_element(By.XPATH, \".//a\").get_attribute('href')"
   ]
  },
  {
   "cell_type": "code",
   "execution_count": 18,
   "id": "40e6d220",
   "metadata": {},
   "outputs": [
    {
     "data": {
      "text/plain": [
       "'Tomorrow'"
      ]
     },
     "execution_count": 18,
     "metadata": {},
     "output_type": "execute_result"
    }
   ],
   "source": [
    "day = matches[0].find_element(By.XPATH, \".//span[@class='sc-17p8rfo-0 dzNdgZ']\").text.split(sep=\",\")[0]"
   ]
  },
  {
   "cell_type": "code",
   "execution_count": 13,
   "id": "7c61dc30",
   "metadata": {},
   "outputs": [
    {
     "data": {
      "text/plain": [
       "6"
      ]
     },
     "execution_count": 13,
     "metadata": {},
     "output_type": "execute_result"
    }
   ],
   "source": [
    "time.localtime()[6]"
   ]
  },
  {
   "cell_type": "code",
   "execution_count": 15,
   "id": "2f2b52e3",
   "metadata": {},
   "outputs": [
    {
     "data": {
      "text/plain": [
       "19"
      ]
     },
     "execution_count": 15,
     "metadata": {},
     "output_type": "execute_result"
    }
   ],
   "source": [
    "if day == \"Today\":\n",
    "    day = time.localtime()[6]\n",
    "elif day == \"Tomorrow\":\n",
    "    day = time.localtime()[6] + 1\n",
    "else:\n",
    "    day = day\n",
    "time.localtime()[2]"
   ]
  },
  {
   "cell_type": "code",
   "execution_count": 20,
   "id": "ef495dc7",
   "metadata": {},
   "outputs": [
    {
     "data": {
      "text/plain": [
       "time.struct_time(tm_year=2023, tm_mon=2, tm_mday=19, tm_hour=18, tm_min=45, tm_sec=6, tm_wday=6, tm_yday=50, tm_isdst=0)"
      ]
     },
     "execution_count": 20,
     "metadata": {},
     "output_type": "execute_result"
    }
   ],
   "source": [
    "time.localtime()"
   ]
  },
  {
   "cell_type": "code",
   "execution_count": 21,
   "id": "eed53594",
   "metadata": {},
   "outputs": [],
   "source": [
    "driver.quit()"
   ]
  },
  {
   "cell_type": "code",
   "execution_count": null,
   "id": "52dd6eb1",
   "metadata": {},
   "outputs": [],
   "source": []
  },
  {
   "attachments": {},
   "cell_type": "markdown",
   "id": "8d409c67",
   "metadata": {},
   "source": [
    "## internal pages"
   ]
  },
  {
   "cell_type": "code",
   "execution_count": null,
   "id": "e7e89038",
   "metadata": {},
   "outputs": [],
   "source": [
    "odds = driver.find_elements(By.CLASS_NAME, \"fwc8o3-15\")\n",
    "odds = [odd.text for odd in odds if odd.text != \"\"]"
   ]
  },
  {
   "cell_type": "code",
   "execution_count": null,
   "id": "de434095",
   "metadata": {},
   "outputs": [],
   "source": [
    "# get names of teams\n",
    "names = []\n",
    "odds = driver.find_elements(By.CLASS_NAME, \"fwc8o3-15\")\n",
    "odds = [odd.text for odd in odds if odd.text != \"\"]\n",
    "for i in range(len(odds)):\n",
    "    type = odds[i].split(sep=\"\\n\")\n",
    "    if type[0] == \"Winner\":\n",
    "        name= type[1] + \"\\n\" + type[3]\n",
    "        break\n",
    "    elif type[0] == \"Handicap Points\":\n",
    "        name = type[1] + \"\\n\" + type[3]\n",
    "        break\n",
    "    elif type[0] == \"Set Handicap\":\n",
    "        name = type[1] + \"\\n\" + type[3]\n",
    "names.append(name)\n",
    "print(names)"
   ]
  },
  {
   "cell_type": "code",
   "execution_count": 81,
   "id": "6411b411",
   "metadata": {},
   "outputs": [
    {
     "name": "stdout",
     "output_type": "stream",
     "text": [
      "['10/21\\n29/20']\n",
      "['5/6\\n4/5']\n",
      "['19/20\\n7/10']\n",
      "['3.5\\n5/12\\n31/20']\n",
      "['179.5\\n5/6\\n5/6']\n"
     ]
    }
   ],
   "source": [
    "# get odds\n",
    "winner = []\n",
    "handicap_points = []\n",
    "set_handicap = []\n",
    "over_under = []\n",
    "over_under_points = []\n",
    "for i in range(len(odds)):\n",
    "    type = odds[i].split(sep=\"\\n\")\n",
    "    if type[0] == \"Winner\":\n",
    "        temp = odds[i].split(sep=\"\\n\")\n",
    "        winner.append(temp[2] + \"\\n\" + temp[4])\n",
    "\n",
    "    elif type[0] == \"Handicap Points\":\n",
    "        temp = odds[i].split(sep=\"\\n\")\n",
    "        handicap_points.append(temp[2] + \"\\n\" + temp[4])\n",
    "    elif type[0] == \"Set Handicap\":\n",
    "        temp = odds[i].split(sep=\"\\n\")\n",
    "        set_handicap.append(temp[2] + \"\\n\" + temp[4])\n",
    "    elif type[0] == \"Over/Under\":\n",
    "        temp = odds[i].split(sep=\"\\n\")\n",
    "        over_under.append(temp[3] + \"\\n\" + temp[4] + \"\\n\" + temp[5])\n",
    "    elif type[0] == \"Over/Under Points\":\n",
    "        temp = odds[i].split(sep=\"\\n\")\n",
    "        over_under_points.append(temp[3] + \"\\n\" + temp[4] + \"\\n\" + temp[5])\n",
    "print(winner)\n",
    "print(handicap_points)\n",
    "print(set_handicap)\n",
    "print(over_under)\n",
    "print(over_under_points)"
   ]
  },
  {
   "cell_type": "code",
   "execution_count": 79,
   "id": "f1783e8b",
   "metadata": {},
   "outputs": [
    {
     "data": {
      "text/plain": [
       "['Winner\\nClub San Jose [W]\\n10/21\\nTucuman de Gimnasia [W]\\n29/20',\n",
       " 'Set Handicap\\nClub San Jose [W] -1.5\\n19/20\\nTucuman de Gimnasia [W] +1.5\\n7/10',\n",
       " 'Handicap Points\\nClub San Jose [W] -6.5\\n5/6\\nTucuman de Gimnasia [W] +6.5\\n4/5',\n",
       " 'Over/Under\\nOver\\nUnder\\n3.5\\n5/12\\n31/20',\n",
       " 'Over/Under Points\\nOver\\nUnder\\n179.5\\n5/6\\n5/6']"
      ]
     },
     "execution_count": 79,
     "metadata": {},
     "output_type": "execute_result"
    }
   ],
   "source": [
    "odds"
   ]
  },
  {
   "cell_type": "code",
   "execution_count": 76,
   "id": "15b5e385",
   "metadata": {},
   "outputs": [
    {
     "data": {
      "text/plain": [
       "['Over/Under', 'Over', 'Under', '3.5', '5/12', '31/20']"
      ]
     },
     "execution_count": 76,
     "metadata": {},
     "output_type": "execute_result"
    }
   ],
   "source": [
    "odds[3].split(sep=\"\\n\")"
   ]
  },
  {
   "cell_type": "code",
   "execution_count": 65,
   "id": "6046a674",
   "metadata": {},
   "outputs": [
    {
     "data": {
      "text/plain": [
       "['Winner', 'Club San Jose [W]', '10/21', 'Tucuman de Gimnasia [W]', '29/20']"
      ]
     },
     "execution_count": 65,
     "metadata": {},
     "output_type": "execute_result"
    }
   ],
   "source": [
    "odds[0].split(sep=\"\\n\")"
   ]
  },
  {
   "cell_type": "code",
   "execution_count": null,
   "id": "71326ed7",
   "metadata": {},
   "outputs": [],
   "source": [
    "winner.append(result_odds[0].text + \"\\n\" + result_odds[1].text + \"\\n\" + result_odds[2].text)"
   ]
  },
  {
   "attachments": {},
   "cell_type": "markdown",
   "id": "5f62f915",
   "metadata": {},
   "source": [
    "### Handi cap"
   ]
  },
  {
   "cell_type": "code",
   "execution_count": 7,
   "id": "79b8ac5d",
   "metadata": {},
   "outputs": [],
   "source": [
    "driver.get('https://www.livescorebet.com/uk/sports/volleyball/argentina-serie-a1-women/san-lorenzo-w-vs-la-matanza-deportes-w/SBTE_28441949')"
   ]
  },
  {
   "cell_type": "code",
   "execution_count": null,
   "id": "9b33b2df",
   "metadata": {},
   "outputs": [],
   "source": [
    "def scrape_handicap():\n",
    "    # The string that contains the odds for all handicaps\n",
    "    handicap_string = \"\"\n",
    "        \n",
    "    # Click to see all handicap bets\n",
    "    try:\n",
    "        asian = driver.find_element(By.XPATH, \".//li[div[header[div[div[contains(text(), 'Asian Lines')]]]]]\") \n",
    "    except:\n",
    "        handicap_list.append(0)\n",
    "        return\n",
    "        \n",
    "    # Move to the asian subbets and open them\n",
    "    click(asian)\n",
    "    \n",
    "    # Let the data load\n",
    "    time.sleep(0.5)\n",
    "        \n",
    "    # Find all handicap odds\n",
    "    handicap = driver.find_element(By.XPATH, \".//li[@class='KambiBC-bet-offer-subcategory KambiBC-bet-offer-subcategory--asian']\")\n",
    "        \n",
    "    # Show the handicap odds\n",
    "    lijst_tonen(handicap)\n",
    "        \n",
    "    # Find the handicap odds\n",
    "    numbers = handicap.find_elements(By.XPATH, \".//div[1][@class='KambiBC-outcomes-list__column']/button/div/div[1]/div[2]\")\n",
    "    handicap_home_odds = handicap.find_elements(By.XPATH, \".//div[1][@class='KambiBC-outcomes-list__column']/button/div/div[2]/div[2]\")\n",
    "    handicap_away_odds = handicap.find_elements(By.XPATH, \".//div[2][@class='KambiBC-outcomes-list__column']/button/div/div[2]/div[2]\")\n",
    "        \n",
    "    # Add all the handicap odds to a formatted string\n",
    "    for i in range(len(handicap_home_odds)):\n",
    "        number = numbers[i].text\n",
    "        if number.find(\".5\") == -1:\n",
    "            continue\n",
    "        odd_home = handicap_home_odds[i].text\n",
    "        odd_away = handicap_away_odds[i].text\n",
    "        handicap_string += number + \"\\n\" + odd_home + \"\\n\" + odd_away + \"|\"\n",
    "    \n",
    "    # Add all the handicap odds to the right list\n",
    "    handicap_list.append(handicap_string)\n"
   ]
  },
  {
   "cell_type": "code",
   "execution_count": 11,
   "id": "4c6342d7",
   "metadata": {},
   "outputs": [],
   "source": [
    "odds = driver.find_elements(By.CLASS_NAME, \"fwc8o3-15\")"
   ]
  },
  {
   "cell_type": "code",
   "execution_count": 12,
   "id": "b7621b33",
   "metadata": {},
   "outputs": [
    {
     "name": "stdout",
     "output_type": "stream",
     "text": [
      "Set Handicap\n",
      "San Lorenzo [W] -2.5\n",
      "2/9\n",
      "La Matanza Deportes [W] +2.5\n",
      "27/10\n",
      "Over/Under\n",
      "Over\n",
      "Under\n",
      "3.5\n",
      "11/4\n",
      "1/5\n",
      "Over/Under Points\n",
      "Over\n",
      "Under\n",
      "127.5\n",
      "5/6\n",
      "5/6\n"
     ]
    }
   ],
   "source": [
    "for odd in odds:\n",
    "    print(odd.text)"
   ]
  },
  {
   "cell_type": "code",
   "execution_count": null,
   "id": "a63d7ab1",
   "metadata": {},
   "outputs": [],
   "source": [
    "item\n",
    "fwc8o3-9 ctooaL\n"
   ]
  },
  {
   "cell_type": "code",
   "execution_count": 10,
   "id": "63cba2b5",
   "metadata": {},
   "outputs": [
    {
     "data": {
      "text/plain": [
       "3"
      ]
     },
     "execution_count": 10,
     "metadata": {},
     "output_type": "execute_result"
    }
   ],
   "source": [
    "By.CLASS_NAME, \"fwc8o3-15 kykjAP\""
   ]
  },
  {
   "cell_type": "code",
   "execution_count": 13,
   "id": "f698ee1f",
   "metadata": {},
   "outputs": [],
   "source": [
    "driver.get('https://www.livescorebet.com/uk/sports/volleyball/argentina-serie-a1-women/club-san-jose-w-vs-tucuman-de-gimnasia-w/SBTE_28441689')"
   ]
  },
  {
   "cell_type": "code",
   "execution_count": 38,
   "id": "4d361b99",
   "metadata": {},
   "outputs": [],
   "source": [
    "\n"
   ]
  },
  {
   "cell_type": "code",
   "execution_count": 52,
   "id": "5f9d0396",
   "metadata": {},
   "outputs": [
    {
     "name": "stdout",
     "output_type": "stream",
     "text": [
      "['Club San Jose [W]\\nTucuman de Gimnasia [W]']\n"
     ]
    }
   ],
   "source": []
  },
  {
   "cell_type": "code",
   "execution_count": 58,
   "id": "28b5dd58",
   "metadata": {},
   "outputs": [
    {
     "data": {
      "text/plain": [
       "['Winner\\nClub San Jose [W]\\n10/21\\nTucuman de Gimnasia [W]\\n29/20',\n",
       " 'Set Handicap\\nClub San Jose [W] -1.5\\n19/20\\nTucuman de Gimnasia [W] +1.5\\n7/10',\n",
       " 'Handicap Points\\nClub San Jose [W] -6.5\\n5/6\\nTucuman de Gimnasia [W] +6.5\\n4/5',\n",
       " 'Over/Under\\nOver\\nUnder\\n3.5\\n5/12\\n31/20',\n",
       " 'Over/Under Points\\nOver\\nUnder\\n179.5\\n5/6\\n5/6']"
      ]
     },
     "execution_count": 58,
     "metadata": {},
     "output_type": "execute_result"
    }
   ],
   "source": [
    "odds\n"
   ]
  },
  {
   "cell_type": "code",
   "execution_count": 29,
   "id": "2621356c",
   "metadata": {},
   "outputs": [],
   "source": [
    "def scrape_winner():\n",
    "        teams = driver.find_elements(By.CLASS_NAME, \"d0lx3k-2\")\n",
    "        points = driver.find_elements(By.CLASS_NAME, \"fpAeKv\")\n",
    "        for i in range(2):\n",
    "            return teams[i].text ,points[i].text"
   ]
  },
  {
   "cell_type": "code",
   "execution_count": 30,
   "id": "19426098",
   "metadata": {},
   "outputs": [
    {
     "name": "stdout",
     "output_type": "stream",
     "text": [
      "Club San Jose [W] 10/21\n"
     ]
    }
   ],
   "source": [
    "oddsType = driver.find_elements(By.CLASS_NAME, \"fwc8o3-9\")\n",
    "for type in oddsType:\n",
    "    if type.text == \"Winner\" or type.text == \"Handicap Points\" or type.text == \"Set Handicap\" :\n",
    "        team, point = scrape_winner()\n",
    "    \n",
    "print(team, point)"
   ]
  },
  {
   "cell_type": "code",
   "execution_count": null,
   "id": "61ca3bea",
   "metadata": {},
   "outputs": [],
   "source": [
    "winner\n",
    "d0lx3k-1 d0lx3k-2 dJMlSm\n",
    "d0lx3k-1 d0lx3k-2 dJMlSm\n",
    "\n",
    "ponts\n",
    "d0lx3k-1 fpAeKv\n",
    "d0lx3k-1 fpAeKv"
   ]
  },
  {
   "cell_type": "code",
   "execution_count": 26,
   "id": "cb5d9a72",
   "metadata": {},
   "outputs": [
    {
     "data": {
      "text/plain": [
       "'10/21'"
      ]
     },
     "execution_count": 26,
     "metadata": {},
     "output_type": "execute_result"
    }
   ],
   "source": [
    "driver.find_elements(By.CLASS_NAME, \"fpAeKv\")[0].text"
   ]
  },
  {
   "cell_type": "code",
   "execution_count": null,
   "id": "58f54762",
   "metadata": {},
   "outputs": [],
   "source": [
    "teamNames = result.find_elements(By.XPATH, \".//div[@class='KambiBC-outcomes-list__column']/button/div/div[1]\")\n",
    "names.append(teamNames[0].text + \"\\n\" + teamNames[2].text)"
   ]
  },
  {
   "cell_type": "code",
   "execution_count": 34,
   "id": "6913d0c7",
   "metadata": {},
   "outputs": [
    {
     "data": {
      "text/plain": [
       "['Winner\\nClub San Jose [W]\\n10/21\\nTucuman de Gimnasia [W]\\n29/20',\n",
       " 'Set Handicap\\nClub San Jose [W] -1.5\\n19/20\\nTucuman de Gimnasia [W] +1.5\\n7/10',\n",
       " 'Handicap Points\\nClub San Jose [W] -6.5\\n5/6\\nTucuman de Gimnasia [W] +6.5\\n4/5',\n",
       " 'Over/Under\\nOver\\nUnder\\n3.5\\n5/12\\n31/20',\n",
       " 'Over/Under Points\\nOver\\nUnder\\n179.5\\n5/6\\n5/6']"
      ]
     },
     "execution_count": 34,
     "metadata": {},
     "output_type": "execute_result"
    }
   ],
   "source": []
  },
  {
   "cell_type": "code",
   "execution_count": 36,
   "id": "56d72c18",
   "metadata": {},
   "outputs": [
    {
     "data": {
      "text/plain": [
       "['Winner', 'Club San Jose [W]', '10/21', 'Tucuman de Gimnasia [W]', '29/20']"
      ]
     },
     "execution_count": 36,
     "metadata": {},
     "output_type": "execute_result"
    }
   ],
   "source": [
    "for odd in odds:\n",
    "    print(odd.text)"
   ]
  },
  {
   "cell_type": "code",
   "execution_count": 57,
   "id": "6cafd7e5",
   "metadata": {},
   "outputs": [
    {
     "name": "stdout",
     "output_type": "stream",
     "text": [
      "this for inner loop\n",
      "outer conten\n",
      "outer conten\n",
      "outer conten\n",
      "outer conten\n",
      "outer conten\n",
      "outer conten\n",
      "outer conten\n",
      "outer conten\n",
      "outer conten\n",
      "outer conten\n"
     ]
    }
   ],
   "source": [
    "j = 0\n",
    "for i in range(10):\n",
    "    for _ in range (10):\n",
    "        j += 1\n",
    "        if j == 1:\n",
    "            print('this for inner loop')\n",
    "            break \n",
    "    print('outer conten')"
   ]
  },
  {
   "cell_type": "code",
   "execution_count": 82,
   "id": "3b94c579",
   "metadata": {},
   "outputs": [
    {
     "data": {
      "text/plain": [
       "True"
      ]
     },
     "execution_count": 82,
     "metadata": {},
     "output_type": "execute_result"
    }
   ],
   "source": [
    "winnar_trans = [\"Winner\",\"Winnar\"]\n",
    "\"Winnar\" in winnar_trans"
   ]
  },
  {
   "attachments": {},
   "cell_type": "markdown",
   "id": "bc4f92ef",
   "metadata": {},
   "source": [
    "## Testing the main scrape"
   ]
  },
  {
   "cell_type": "code",
   "execution_count": 7,
   "id": "5576c328",
   "metadata": {},
   "outputs": [],
   "source": [
    "names = []\n",
    "winner = []\n",
    "handicap_points = []\n",
    "set_handicap = []\n",
    "over_under = []\n",
    "over_under_points = []\n",
    "winnar_trans = [\"winner\",\"winnaar\"]\n",
    "set_trans = [\"set Handicap\", \"set\"]\n",
    "handicap_points_trans = [\"handicap Points\",\"handicap punten\"]\n",
    "over_under_trans = [\"over/under\", \"meer dan/minder dan\"]\n",
    "over_under_points_trans = [\"over/under points\", \"meer dan/minder dan punten\"]"
   ]
  },
  {
   "cell_type": "code",
   "execution_count": 12,
   "id": "6e3fa727",
   "metadata": {},
   "outputs": [],
   "source": [
    "def scrape_teamsName():\n",
    "    # get odds blocks  \n",
    "    odds = driver.find_elements(By.CLASS_NAME, \"fwc8o3-15\")\n",
    "    odds = [odd.text.lower() for odd in odds if odd.text != \"\"]\n",
    "    for i in range(len(odds)):\n",
    "        type = odds[i].split(sep=\"\\n\")\n",
    "        if type[0] in winnar_trans:\n",
    "            name= type[1] + \"\\n\" + type[3]\n",
    "            break\n",
    "        elif type[0] in handicap_points_trans:\n",
    "            name = type[1][:-4] + \"\\n\" + type[3][:-4]\n",
    "            break\n",
    "        elif type[0] in set_trans:\n",
    "            name = type[1][:-4] + \"\\n\" + type[3][:-4]\n",
    "        \n",
    "    try:\n",
    "        names.append(name)\n",
    "    except:\n",
    "        print('coudnt find name')\n",
    "    #for debug\n",
    "    print('this form scrape_teamsName function {}'.format(names))\n"
   ]
  },
  {
   "cell_type": "code",
   "execution_count": 21,
   "id": "d709eac6",
   "metadata": {},
   "outputs": [],
   "source": [
    "url = 'https://www.livescorebet.com/nl-nl/sports/volleybal/frankrijk-coupe-de-france/saint-nazaire-vb-vs-narbonne-volley/SBTE_28444203'"
   ]
  },
  {
   "cell_type": "code",
   "execution_count": 22,
   "id": "959e93e7",
   "metadata": {},
   "outputs": [],
   "source": [
    "driver.get(url)"
   ]
  },
  {
   "cell_type": "code",
   "execution_count": 23,
   "id": "f16ede75",
   "metadata": {},
   "outputs": [
    {
     "name": "stdout",
     "output_type": "stream",
     "text": [
      "this form scrape_teamsName function ['arago de sete\\npoitiers', 'gazelec ajaccio\\nnice', 'saint nazaire vb\\nnarbonne volley']\n"
     ]
    }
   ],
   "source": [
    "scrape_teamsName()"
   ]
  },
  {
   "cell_type": "code",
   "execution_count": 19,
   "id": "117bca8a",
   "metadata": {},
   "outputs": [],
   "source": [
    "def scrape_odds():\n",
    "\n",
    "    odds = driver.find_elements(By.CLASS_NAME, \"fwc8o3-15\")\n",
    "    odds = [odd.text.lower() for odd in odds if odd.text != \"\"]\n",
    "    for i in range(len(odds)):\n",
    "        type = odds[i].split(sep=\"\\n\")\n",
    "        if type[0] in winnar_trans:\n",
    "            temp = odds[i].split(sep=\"\\n\")\n",
    "            winner.append(temp[2] + \"\\n\" + temp[4])\n",
    "\n",
    "        elif type[0] in handicap_points_trans:\n",
    "            temp = odds[i].split(sep=\"\\n\")\n",
    "            handicap_points.append(temp[2] + \"\\n\" + temp[4])\n",
    "        elif type[0] in set_trans:\n",
    "            temp = odds[i].split(sep=\"\\n\")\n",
    "            set_handicap.append(temp[2] + \"\\n\" + temp[4])\n",
    "        elif type[0] in over_under_trans:\n",
    "            temp = odds[i].split(sep=\"\\n\")\n",
    "            over_under.append(temp[3] + \"\\n\" + temp[4] + \"\\n\" + temp[5])\n",
    "        elif type[0] in over_under_points_trans:\n",
    "            temp = odds[i].split(sep=\"\\n\")\n",
    "            over_under_points.append(temp[3] + \"\\n\" + temp[4] + \"\\n\" + temp[5])\n",
    "    #for debug\n",
    "    print('this form scrape_odds function winner {}\\n set {}\\n hed{} \\n over{} \\npointer {}'.format(winner,set_handicap,handicap_points,over_under, over_under_points))"
   ]
  },
  {
   "cell_type": "code",
   "execution_count": 24,
   "id": "053ab9fe",
   "metadata": {},
   "outputs": [
    {
     "name": "stdout",
     "output_type": "stream",
     "text": [
      "this form scrape_odds function winner ['3.20\\n1.28', '3.20\\n1.28', '1.53\\n2.30']\n",
      " set []\n",
      " hed['1.74\\n1.86', '1.74\\n1.86', '1.80\\n1.80'] \n",
      " over[] \n",
      "pointer ['180.5\\n1.80\\n1.80', '180.5\\n1.80\\n1.80', '183.5\\n1.78\\n1.82']\n"
     ]
    }
   ],
   "source": [
    "scrape_odds()"
   ]
  },
  {
   "cell_type": "code",
   "execution_count": 26,
   "id": "dc5a395d",
   "metadata": {},
   "outputs": [
    {
     "data": {
      "text/plain": [
       "'c:\\\\Users\\\\Admin\\\\Desktop\\\\Notebook\\\\1-Freelancer_Projects\\\\BetcityScrape\\\\livescorebet'"
      ]
     },
     "execution_count": 26,
     "metadata": {},
     "output_type": "execute_result"
    }
   ],
   "source": [
    "# lower string values\n",
    "%pwd"
   ]
  },
  {
   "cell_type": "code",
   "execution_count": 27,
   "id": "87414ca1",
   "metadata": {},
   "outputs": [
    {
     "data": {
      "text/html": [
       "<div>\n",
       "<style scoped>\n",
       "    .dataframe tbody tr th:only-of-type {\n",
       "        vertical-align: middle;\n",
       "    }\n",
       "\n",
       "    .dataframe tbody tr th {\n",
       "        vertical-align: top;\n",
       "    }\n",
       "\n",
       "    .dataframe thead th {\n",
       "        text-align: right;\n",
       "    }\n",
       "</style>\n",
       "<table border=\"1\" class=\"dataframe\">\n",
       "  <thead>\n",
       "    <tr style=\"text-align: right;\">\n",
       "      <th></th>\n",
       "      <th>Teams</th>\n",
       "      <th>winner</th>\n",
       "      <th>handicap points</th>\n",
       "      <th>set handicap</th>\n",
       "      <th>over under</th>\n",
       "      <th>over under points</th>\n",
       "    </tr>\n",
       "  </thead>\n",
       "  <tbody>\n",
       "    <tr>\n",
       "      <th>0</th>\n",
       "      <td>holte [v]\\ngentofte volley [v]</td>\n",
       "      <td>1.12\\n5.60</td>\n",
       "      <td>1.82\\n1.86</td>\n",
       "      <td>1.92\\n1.77</td>\n",
       "      <td>3.5\\n1.88\\n1.80</td>\n",
       "      <td>150.5\\n1.84\\n1.84</td>\n",
       "    </tr>\n",
       "  </tbody>\n",
       "</table>\n",
       "</div>"
      ],
      "text/plain": [
       "                            Teams      winner handicap points set handicap  \\\n",
       "0  holte [v]\\ngentofte volley [v]  1.12\\n5.60      1.82\\n1.86   1.92\\n1.77   \n",
       "\n",
       "        over under  over under points  \n",
       "0  3.5\\n1.88\\n1.80  150.5\\n1.84\\n1.84  "
      ]
     },
     "execution_count": 27,
     "metadata": {},
     "output_type": "execute_result"
    }
   ],
   "source": [
    "# restore pickle file\n",
    "import pickle\n",
    "with open('df_liveScore_volly', 'rb') as handle:\n",
    "    data = pickle.load(handle)\n",
    "data.head()"
   ]
  },
  {
   "cell_type": "code",
   "execution_count": null,
   "id": "66c711d0",
   "metadata": {},
   "outputs": [],
   "source": []
  }
 ],
 "metadata": {
  "kernelspec": {
   "display_name": "scrapy",
   "language": "python",
   "name": "scrapy"
  },
  "language_info": {
   "codemirror_mode": {
    "name": "ipython",
    "version": 3
   },
   "file_extension": ".py",
   "mimetype": "text/x-python",
   "name": "python",
   "nbconvert_exporter": "python",
   "pygments_lexer": "ipython3",
   "version": "3.11.1"
  },
  "vscode": {
   "interpreter": {
    "hash": "72b2382ece9768098284d92bbc69d35954e75b60d1e25897d1389c232f4796f0"
   }
  }
 },
 "nbformat": 4,
 "nbformat_minor": 5
}
