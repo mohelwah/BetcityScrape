{
 "cells": [
  {
   "cell_type": "code",
   "execution_count": 4,
   "id": "2c6eb871",
   "metadata": {},
   "outputs": [],
   "source": [
    "from selenium import webdriver\n",
    "from selenium.webdriver.common.keys import Keys\n",
    "from selenium.webdriver.chrome.options import Options\n",
    "from selenium.webdriver.support.ui import Select\n",
    "from selenium.webdriver.common.by import By\n",
    "from selenium.webdriver.support.ui import WebDriverWait\n",
    "from selenium.webdriver.support import expected_conditions as EC\n",
    "from selenium.webdriver.support.select import Select\n",
    "from selenium.webdriver.common.action_chains import ActionChains\n",
    "import time"
   ]
  },
  {
   "cell_type": "code",
   "execution_count": 2,
   "id": "893abc58",
   "metadata": {},
   "outputs": [
    {
     "name": "stderr",
     "output_type": "stream",
     "text": [
      "C:\\Users\\root\\AppData\\Local\\Temp\\ipykernel_15660\\2634053719.py:4: DeprecationWarning: executable_path has been deprecated, please pass in a Service object\n",
      "  driver = webdriver.Chrome(executable_path=executable_path)\n"
     ]
    }
   ],
   "source": [
    "url = 'https://www.livescorebet.com/uk/sports/volleyball/argentina-serie-a1-women/SBTC3_68995'\n",
    "executable_path = \"C:\\webdriver\\chromedriver.exe\"\n",
    "try:\n",
    "    driver = webdriver.Chrome(executable_path=executable_path)\n",
    "except:\n",
    "    driver = webdriver.Chrome()\n",
    "    \n",
    "driver.get(url)"
   ]
  },
  {
   "attachments": {},
   "cell_type": "markdown",
   "id": "deb2daf7",
   "metadata": {},
   "source": [
    "## main volleyball page:"
   ]
  },
  {
   "cell_type": "code",
   "execution_count": 2,
   "id": "18c9e223",
   "metadata": {},
   "outputs": [],
   "source": [
    "url = 'https://www.livescorebet.com/uk/sports/volleyball/argentina-serie-a1-women/SBTC3_68995'\n",
    "executable_path = \"C:\\webdriver\\chromedriver.exe\"\n",
    "try:\n",
    "    driver = webdriver.Chrome(executable_path=executable_path)\n",
    "except:\n",
    "    driver = webdriver.Chrome()\n",
    "    \n",
    "driver.get(url)"
   ]
  },
  {
   "cell_type": "code",
   "execution_count": 5,
   "id": "675cf177",
   "metadata": {},
   "outputs": [
    {
     "name": "stderr",
     "output_type": "stream",
     "text": [
      "C:\\Users\\root\\AppData\\Local\\Temp\\ipykernel_12792\\3593300728.py:3: DeprecationWarning: executable_path has been deprecated, please pass in a Service object\n",
      "  driver = webdriver.Chrome(executable_path=executable_path)\n"
     ]
    }
   ],
   "source": [
    "executable_path = \"C:\\webdriver\\chromedriver.exe\"\n",
    "try:\n",
    "    driver = webdriver.Chrome(executable_path=executable_path)\n",
    "except:\n",
    "    driver = webdriver.Chrome()\n",
    "    \n",
    "driver.get(url)"
   ]
  },
  {
   "cell_type": "code",
   "execution_count": 7,
   "id": "c04e126d",
   "metadata": {},
   "outputs": [],
   "source": [
    "matches = driver.find_elements(By.CLASS_NAME, \"effrky-4\")"
   ]
  },
  {
   "cell_type": "code",
   "execution_count": 19,
   "id": "207c9bbb",
   "metadata": {},
   "outputs": [
    {
     "name": "stdout",
     "output_type": "stream",
     "text": [
      "Tomorrow, 01:00 https://www.livescorebet.com/uk/sports/volleyball/argentina-serie-a1-women/club-san-jose-w-vs-tucuman-de-gimnasia-w/SBTE_28441689 20\n",
      "Tomorrow, 01:00 https://www.livescorebet.com/uk/sports/volleyball/argentina-serie-a1-women/estudiantes-de-la-plata-w-vs-nautico-rosario-w/SBTE_28441690 20\n",
      "Tomorrow, 01:00 https://www.livescorebet.com/uk/sports/volleyball/argentina-serie-a1-women/ferro-carril-oeste-w-vs-unlam-w/SBTE_28441955 20\n",
      "Tomorrow, 02:00 https://www.livescorebet.com/uk/sports/volleyball/argentina-serie-a1-women/gimnasia-la-plata-w-vs-villa-dora-w/SBTE_28441691 20\n",
      "Tomorrow, 02:00 https://www.livescorebet.com/uk/sports/volleyball/argentina-serie-a1-women/san-lorenzo-w-vs-la-matanza-deportes-w/SBTE_28441949 20\n"
     ]
    }
   ],
   "source": [
    "for match in matches:\n",
    "    date = match.find_element(By.XPATH, \".//span[@class='sc-17p8rfo-0 dzNdgZ']\").text\n",
    "    link = match.find_element(By.XPATH, \".//a\").get_attribute(\"href\")\n",
    "    day = match.find_element(By.XPATH, \".//span[@class='sc-17p8rfo-0 dzNdgZ']\").text.split(sep=\",\")[0]\n",
    "    if day == \"Today\":\n",
    "        day = time.localtime()[2]\n",
    "    elif day == \"Tomorrow\":\n",
    "        day = time.localtime()[2] + 1\n",
    "    else:\n",
    "        day = day\n",
    "    print(date, link,day)\n"
   ]
  },
  {
   "cell_type": "code",
   "execution_count": 10,
   "id": "d4413a73",
   "metadata": {},
   "outputs": [
    {
     "data": {
      "text/plain": [
       "'https://www.livescorebet.com/uk/sports/volleyball/argentina-serie-a1-women/club-san-jose-w-vs-tucuman-de-gimnasia-w/SBTE_28441689'"
      ]
     },
     "execution_count": 10,
     "metadata": {},
     "output_type": "execute_result"
    }
   ],
   "source": [
    "matches[0].find_element(By.XPATH, \".//a\").get_attribute('href')"
   ]
  },
  {
   "cell_type": "code",
   "execution_count": 18,
   "id": "40e6d220",
   "metadata": {},
   "outputs": [
    {
     "data": {
      "text/plain": [
       "'Tomorrow'"
      ]
     },
     "execution_count": 18,
     "metadata": {},
     "output_type": "execute_result"
    }
   ],
   "source": [
    "day = matches[0].find_element(By.XPATH, \".//span[@class='sc-17p8rfo-0 dzNdgZ']\").text.split(sep=\",\")[0]"
   ]
  },
  {
   "cell_type": "code",
   "execution_count": 13,
   "id": "7c61dc30",
   "metadata": {},
   "outputs": [
    {
     "data": {
      "text/plain": [
       "6"
      ]
     },
     "execution_count": 13,
     "metadata": {},
     "output_type": "execute_result"
    }
   ],
   "source": [
    "time.localtime()[6]"
   ]
  },
  {
   "cell_type": "code",
   "execution_count": 15,
   "id": "2f2b52e3",
   "metadata": {},
   "outputs": [
    {
     "data": {
      "text/plain": [
       "19"
      ]
     },
     "execution_count": 15,
     "metadata": {},
     "output_type": "execute_result"
    }
   ],
   "source": [
    "if day == \"Today\":\n",
    "    day = time.localtime()[6]\n",
    "elif day == \"Tomorrow\":\n",
    "    day = time.localtime()[6] + 1\n",
    "else:\n",
    "    day = day\n",
    "time.localtime()[2]"
   ]
  },
  {
   "cell_type": "code",
   "execution_count": 20,
   "id": "ef495dc7",
   "metadata": {},
   "outputs": [
    {
     "data": {
      "text/plain": [
       "time.struct_time(tm_year=2023, tm_mon=2, tm_mday=19, tm_hour=18, tm_min=45, tm_sec=6, tm_wday=6, tm_yday=50, tm_isdst=0)"
      ]
     },
     "execution_count": 20,
     "metadata": {},
     "output_type": "execute_result"
    }
   ],
   "source": [
    "time.localtime()"
   ]
  },
  {
   "cell_type": "code",
   "execution_count": 21,
   "id": "eed53594",
   "metadata": {},
   "outputs": [],
   "source": [
    "driver.quit()"
   ]
  },
  {
   "cell_type": "code",
   "execution_count": null,
   "id": "52dd6eb1",
   "metadata": {},
   "outputs": [],
   "source": []
  },
  {
   "attachments": {},
   "cell_type": "markdown",
   "id": "8d409c67",
   "metadata": {},
   "source": [
    "## internal pages"
   ]
  },
  {
   "attachments": {},
   "cell_type": "markdown",
   "id": "5f62f915",
   "metadata": {},
   "source": [
    "### Handi cap"
   ]
  },
  {
   "cell_type": "code",
   "execution_count": 7,
   "id": "79b8ac5d",
   "metadata": {},
   "outputs": [],
   "source": [
    "driver.get('https://www.livescorebet.com/uk/sports/volleyball/argentina-serie-a1-women/san-lorenzo-w-vs-la-matanza-deportes-w/SBTE_28441949')"
   ]
  },
  {
   "cell_type": "code",
   "execution_count": null,
   "id": "9b33b2df",
   "metadata": {},
   "outputs": [],
   "source": [
    "def scrape_handicap():\n",
    "    # The string that contains the odds for all handicaps\n",
    "    handicap_string = \"\"\n",
    "        \n",
    "    # Click to see all handicap bets\n",
    "    try:\n",
    "        asian = driver.find_element(By.XPATH, \".//li[div[header[div[div[contains(text(), 'Asian Lines')]]]]]\") \n",
    "    except:\n",
    "        handicap_list.append(0)\n",
    "        return\n",
    "        \n",
    "    # Move to the asian subbets and open them\n",
    "    click(asian)\n",
    "    \n",
    "    # Let the data load\n",
    "    time.sleep(0.5)\n",
    "        \n",
    "    # Find all handicap odds\n",
    "    handicap = driver.find_element(By.XPATH, \".//li[@class='KambiBC-bet-offer-subcategory KambiBC-bet-offer-subcategory--asian']\")\n",
    "        \n",
    "    # Show the handicap odds\n",
    "    lijst_tonen(handicap)\n",
    "        \n",
    "    # Find the handicap odds\n",
    "    numbers = handicap.find_elements(By.XPATH, \".//div[1][@class='KambiBC-outcomes-list__column']/button/div/div[1]/div[2]\")\n",
    "    handicap_home_odds = handicap.find_elements(By.XPATH, \".//div[1][@class='KambiBC-outcomes-list__column']/button/div/div[2]/div[2]\")\n",
    "    handicap_away_odds = handicap.find_elements(By.XPATH, \".//div[2][@class='KambiBC-outcomes-list__column']/button/div/div[2]/div[2]\")\n",
    "        \n",
    "    # Add all the handicap odds to a formatted string\n",
    "    for i in range(len(handicap_home_odds)):\n",
    "        number = numbers[i].text\n",
    "        if number.find(\".5\") == -1:\n",
    "            continue\n",
    "        odd_home = handicap_home_odds[i].text\n",
    "        odd_away = handicap_away_odds[i].text\n",
    "        handicap_string += number + \"\\n\" + odd_home + \"\\n\" + odd_away + \"|\"\n",
    "    \n",
    "    # Add all the handicap odds to the right list\n",
    "    handicap_list.append(handicap_string)\n"
   ]
  },
  {
   "cell_type": "code",
   "execution_count": 11,
   "id": "4c6342d7",
   "metadata": {},
   "outputs": [],
   "source": [
    "odds = driver.find_elements(By.CLASS_NAME, \"fwc8o3-15\")"
   ]
  },
  {
   "cell_type": "code",
   "execution_count": 12,
   "id": "b7621b33",
   "metadata": {},
   "outputs": [
    {
     "name": "stdout",
     "output_type": "stream",
     "text": [
      "Set Handicap\n",
      "San Lorenzo [W] -2.5\n",
      "2/9\n",
      "La Matanza Deportes [W] +2.5\n",
      "27/10\n",
      "Over/Under\n",
      "Over\n",
      "Under\n",
      "3.5\n",
      "11/4\n",
      "1/5\n",
      "Over/Under Points\n",
      "Over\n",
      "Under\n",
      "127.5\n",
      "5/6\n",
      "5/6\n"
     ]
    }
   ],
   "source": [
    "for odd in odds:\n",
    "    print(odd.text)"
   ]
  },
  {
   "cell_type": "code",
   "execution_count": null,
   "id": "a63d7ab1",
   "metadata": {},
   "outputs": [],
   "source": [
    "item\n",
    "fwc8o3-9 ctooaL\n"
   ]
  },
  {
   "cell_type": "code",
   "execution_count": 10,
   "id": "63cba2b5",
   "metadata": {},
   "outputs": [
    {
     "data": {
      "text/plain": [
       "3"
      ]
     },
     "execution_count": 10,
     "metadata": {},
     "output_type": "execute_result"
    }
   ],
   "source": [
    "By.CLASS_NAME, \"fwc8o3-15 kykjAP\""
   ]
  },
  {
   "cell_type": "code",
   "execution_count": 13,
   "id": "f698ee1f",
   "metadata": {},
   "outputs": [],
   "source": [
    "driver.get('https://www.livescorebet.com/uk/sports/volleyball/argentina-serie-a1-women/club-san-jose-w-vs-tucuman-de-gimnasia-w/SBTE_28441689')"
   ]
  },
  {
   "cell_type": "code",
   "execution_count": 14,
   "id": "4d361b99",
   "metadata": {},
   "outputs": [],
   "source": [
    "odds = driver.find_elements(By.CLASS_NAME, \"fwc8o3-15\")"
   ]
  },
  {
   "cell_type": "code",
   "execution_count": 15,
   "id": "5f9d0396",
   "metadata": {},
   "outputs": [
    {
     "name": "stdout",
     "output_type": "stream",
     "text": [
      "Winner\n",
      "Club San Jose [W]\n",
      "10/21\n",
      "Tucuman de Gimnasia [W]\n",
      "29/20\n",
      "Set Handicap\n",
      "Club San Jose [W] -1.5\n",
      "19/20\n",
      "Tucuman de Gimnasia [W] +1.5\n",
      "7/10\n",
      "Handicap Points\n",
      "Club San Jose [W] -6.5\n",
      "5/6\n",
      "Tucuman de Gimnasia [W] +6.5\n",
      "4/5\n",
      "Over/Under\n",
      "Over\n",
      "Under\n",
      "3.5\n",
      "5/12\n",
      "31/20\n",
      "Over/Under Points\n",
      "Over\n",
      "Under\n",
      "179.5\n",
      "5/6\n",
      "5/6\n"
     ]
    }
   ],
   "source": [
    "for odd in odds:\n",
    "    print(odd.text)"
   ]
  },
  {
   "cell_type": "code",
   "execution_count": 18,
   "id": "28b5dd58",
   "metadata": {},
   "outputs": [
    {
     "data": {
      "text/plain": [
       "5"
      ]
     },
     "execution_count": 18,
     "metadata": {},
     "output_type": "execute_result"
    }
   ],
   "source": [
    "len(driver.find_elements(By.CLASS_NAME, \"fwc8o3-9\"))"
   ]
  },
  {
   "cell_type": "code",
   "execution_count": 19,
   "id": "19426098",
   "metadata": {},
   "outputs": [
    {
     "name": "stdout",
     "output_type": "stream",
     "text": [
      "Winner\n",
      "Set Handicap\n",
      "Handicap Points\n",
      "Over/Under\n",
      "Over/Under Points\n"
     ]
    }
   ],
   "source": [
    "oddsType = driver.find_elements(By.CLASS_NAME, \"fwc8o3-9\")\n",
    "for type in oddsType:\n",
    "    print(type.text)"
   ]
  },
  {
   "cell_type": "code",
   "execution_count": null,
   "id": "61ca3bea",
   "metadata": {},
   "outputs": [],
   "source": []
  }
 ],
 "metadata": {
  "kernelspec": {
   "display_name": "newbot",
   "language": "python",
   "name": "newbot"
  },
  "language_info": {
   "codemirror_mode": {
    "name": "ipython",
    "version": 3
   },
   "file_extension": ".py",
   "mimetype": "text/x-python",
   "name": "python",
   "nbconvert_exporter": "python",
   "pygments_lexer": "ipython3",
   "version": "3.9.12"
  },
  "vscode": {
   "interpreter": {
    "hash": "fcb8fcb1d00e8ed60956daf7c96f4a8516500568e9266ca64c1a6aa79b71e90d"
   }
  }
 },
 "nbformat": 4,
 "nbformat_minor": 5
}
