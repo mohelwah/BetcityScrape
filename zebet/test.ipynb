{
 "cells": [
  {
   "cell_type": "code",
   "execution_count": 1,
   "id": "2c6eb871",
   "metadata": {},
   "outputs": [],
   "source": [
    "from selenium import webdriver\n",
    "from selenium.webdriver.common.keys import Keys\n",
    "from selenium.webdriver.chrome.options import Options\n",
    "from selenium.webdriver.support.ui import Select\n",
    "from selenium.webdriver.common.by import By\n",
    "from selenium.webdriver.support.ui import WebDriverWait\n",
    "from selenium.webdriver.support import expected_conditions as EC\n",
    "from selenium.webdriver.support.select import Select\n",
    "from selenium.webdriver.common.action_chains import ActionChains\n",
    "import time\n",
    "from bs4 import BeautifulSoup"
   ]
  },
  {
   "cell_type": "code",
   "execution_count": 2,
   "id": "893abc58",
   "metadata": {},
   "outputs": [
    {
     "name": "stderr",
     "output_type": "stream",
     "text": [
      "C:\\Users\\Admin\\AppData\\Local\\Temp\\ipykernel_15980\\2724006734.py:3: DeprecationWarning: executable_path has been deprecated, please pass in a Service object\n",
      "  driver = webdriver.Chrome(executable_path=executable_path)\n"
     ]
    }
   ],
   "source": [
    "try:\n",
    "    executable_path = \"C:\\webdriver\\chromedriver.exe\"\n",
    "    driver = webdriver.Chrome(executable_path=executable_path)\n",
    "except:\n",
    "    driver = webdriver.Chrome()\n",
    "\n"
   ]
  },
  {
   "attachments": {},
   "cell_type": "markdown",
   "id": "deb2daf7",
   "metadata": {},
   "source": [
    "## main zebet page:"
   ]
  },
  {
   "cell_type": "code",
   "execution_count": 7,
   "id": "18c9e223",
   "metadata": {},
   "outputs": [],
   "source": [
    "driver.get(\"https://www.zebet.com/en/sport/14-volleyball\")"
   ]
  },
  {
   "cell_type": "code",
   "execution_count": 18,
   "id": "3cf3facd",
   "metadata": {},
   "outputs": [],
   "source": [
    "url = \"https://www.zebet.com/en/event/vsll2-st_nazaire_vb_narbonne\""
   ]
  },
  {
   "cell_type": "code",
   "execution_count": 3,
   "id": "ad724505",
   "metadata": {},
   "outputs": [],
   "source": [
    "driver.get('https://www.zebet.com/en/event/ijml2-volei_nestle_unilife_maringa')"
   ]
  },
  {
   "cell_type": "code",
   "execution_count": 4,
   "id": "d9f1072a",
   "metadata": {},
   "outputs": [],
   "source": [
    "soup = BeautifulSoup(driver.page_source, 'html.parser')"
   ]
  },
  {
   "cell_type": "code",
   "execution_count": null,
   "id": "100e3cbf",
   "metadata": {},
   "outputs": [],
   "source": [
    "t = \n",
    "for i in range(len(t)):\n",
    "    teams.append(t[i].text)"
   ]
  },
  {
   "cell_type": "code",
   "execution_count": 22,
   "id": "eb2a222a",
   "metadata": {},
   "outputs": [],
   "source": [
    "def click(webElement):\n",
    "    ActionChains(driver).move_to_element(webElement)\n",
    "    webElement.click()"
   ]
  },
  {
   "cell_type": "code",
   "execution_count": 24,
   "id": "2259d855",
   "metadata": {},
   "outputs": [],
   "source": [
    "over_under_list = []\n",
    "def scrape_over_under():\n",
    "    # The string that contains the odds for all over/under bets\n",
    "    over_under_string = \"\"\n",
    "        \n",
    "    # Find all over/under odds\n",
    "    try:\n",
    "       content = soup.find_all('div',class_=\"item-content over_under\")\n",
    "    except:\n",
    "        over_under_list.append(0)\n",
    "        return\n",
    "    for _ in content:\n",
    "        odds = _.text.split()    \n",
    "\n",
    "    for i in range(len(content)):\n",
    "        try:\n",
    "            odd_over = str(odds[0])\n",
    "        except:\n",
    "            odd_over = \"1\"\n",
    "        try:\n",
    "            odd_under = str(odds[3])\n",
    "        except:\n",
    "            odd_under = \"1\"\n",
    "        over_under_string += str(i) + \"\\n\" + odd_over + \"\\n\" + odd_under + \"|\"\n",
    "    \n",
    "    # Add all the over/under odds to the right list\n",
    "    over_under_list.append(over_under_string)"
   ]
  },
  {
   "cell_type": "code",
   "execution_count": 25,
   "id": "c956e3f4",
   "metadata": {},
   "outputs": [],
   "source": [
    "scrape_over_under()"
   ]
  },
  {
   "cell_type": "code",
   "execution_count": 26,
   "id": "92676030",
   "metadata": {},
   "outputs": [
    {
     "data": {
      "text/plain": [
       "['0\\n1,73\\n1,73|']"
      ]
     },
     "execution_count": 26,
     "metadata": {},
     "output_type": "execute_result"
    }
   ],
   "source": [
    "over_under_list"
   ]
  },
  {
   "cell_type": "code",
   "execution_count": 37,
   "id": "94eb5641",
   "metadata": {},
   "outputs": [],
   "source": [
    "over_under = driver.find_element(By.XPATH, \".//div[@class='uk-accordion-wrapper item-bloc item filter0 filter1 filter2']\")\n",
    "click(over_under)"
   ]
  },
  {
   "cell_type": "code",
   "execution_count": 45,
   "id": "9f3d971c",
   "metadata": {},
   "outputs": [],
   "source": [
    "over_under_content = driver.find_element(By.XPATH, \".//div[@class='item-content over_under']\")"
   ]
  },
  {
   "cell_type": "code",
   "execution_count": 41,
   "id": "45946077",
   "metadata": {},
   "outputs": [
    {
     "data": {
      "text/plain": [
       "1"
      ]
     },
     "execution_count": 41,
     "metadata": {},
     "output_type": "execute_result"
    }
   ],
   "source": [
    "len(over_under_content)"
   ]
  },
  {
   "cell_type": "code",
   "execution_count": 9,
   "id": "2bb8fea7",
   "metadata": {},
   "outputs": [],
   "source": [
    "content = soup.find_all('div',class_=\"item-content over_under\")"
   ]
  },
  {
   "cell_type": "code",
   "execution_count": 32,
   "id": "5b49b824",
   "metadata": {},
   "outputs": [],
   "source": [
    "driver.get('https://www.zebet.com/en/event/6mjl2-ubi_banca_san_bernardo_cuneo_il_bisonte_firenze')"
   ]
  },
  {
   "cell_type": "code",
   "execution_count": 33,
   "id": "3752bf58",
   "metadata": {},
   "outputs": [
    {
     "data": {
      "text/plain": [
       "['0\\n1,73\\n1,73|',\n",
       " '0\\n1,73\\n1,73|',\n",
       " '0\\n1,81\\n1,80|',\n",
       " '0\\n1,81\\n1,80|',\n",
       " '0\\n1,81\\n1,80|']"
      ]
     },
     "execution_count": 33,
     "metadata": {},
     "output_type": "execute_result"
    }
   ],
   "source": [
    "soup = BeautifulSoup(driver.page_source, 'html.parser')\n",
    "scrape_over_under()\n",
    "over_under_list"
   ]
  },
  {
   "cell_type": "code",
   "execution_count": 29,
   "id": "ed116c08",
   "metadata": {},
   "outputs": [
    {
     "data": {
      "text/plain": [
       "['0\\n1,73\\n1,73|', '0\\n1,73\\n1,73|']"
      ]
     },
     "execution_count": 29,
     "metadata": {},
     "output_type": "execute_result"
    }
   ],
   "source": [
    "over_under_list"
   ]
  },
  {
   "cell_type": "code",
   "execution_count": 43,
   "id": "f94d4c93",
   "metadata": {},
   "outputs": [],
   "source": [
    "content = soup.find_all(,class_=\"uk-accordion-wrapper item-bloc item filter0 filter1\")"
   ]
  },
  {
   "cell_type": "code",
   "execution_count": 54,
   "id": "1458db36",
   "metadata": {},
   "outputs": [
    {
     "data": {
      "text/plain": [
       "[<div class=\"bet-question\" data-t=\"1-2\"><i class=\"uk-icon-bullseye\"></i>\n",
       "                         \n",
       "          Who will win the match?             </div>]"
      ]
     },
     "execution_count": 54,
     "metadata": {},
     "output_type": "execute_result"
    }
   ],
   "source": [
    "\n",
    "soup.findAll('div',{\"data-t\" : \"1-2\"})"
   ]
  },
  {
   "cell_type": "code",
   "execution_count": 50,
   "id": "b8f29264",
   "metadata": {},
   "outputs": [
    {
     "data": {
      "text/plain": [
       "2"
      ]
     },
     "execution_count": 50,
     "metadata": {},
     "output_type": "execute_result"
    }
   ],
   "source": [
    "len(l)"
   ]
  },
  {
   "cell_type": "code",
   "execution_count": 51,
   "id": "44ccd2f7",
   "metadata": {},
   "outputs": [
    {
     "data": {
      "text/plain": [
       "<div class=\"uk-accordion-wrapper item-bloc item filter0 filter1\">\n",
       "<h3 class=\"uk-accordion-title uk-active\" data-type=\"2\">\n",
       "<span class=\"uk-flex uk-flex-space-between uk-flex-middle\">\n",
       "<span>\n",
       "                                        1-2                                    </span>\n",
       "</span>\n",
       "</h3>\n",
       "<div aria-expanded=\"true\" data-wrapper=\"true\" style=\"height: auto; position: relative;\"><div class=\"uk-accordion-content uk-padding-remove uk-active\">\n",
       "<div class=\"item-content\">\n",
       "<div class=\"bet-question\" data-t=\"1-2\"><i class=\"uk-icon-bullseye\"></i>\n",
       "                        \n",
       "         Who will win the match?             </div>\n",
       "<div class=\"uk-flex uk-flex-middle uk-flex-space-between uk-flex-wrap uk-grid-small\">\n",
       "<div class=\"bet-actorodd2 uk-width-1-2 uk-width-xsmall-1-2\">\n",
       "<a class=\"ellipsis zb-load odd odd2\" data-choice=\"01c294de13342b5d3cca1cb583774bc1\" data-hash=\"4717136491\" data-href=\"/en/bettingslip/bet/4717136491\">\n",
       "<span class=\"pmq-cote\">\n",
       "        1,91    </span>\n",
       "<span class=\"pmq-cote-acteur uk-text-truncate\">\n",
       "                                    \n",
       "        UBI Banca San Bernardo Cuneo     </span>\n",
       "</a>\n",
       "</div>\n",
       "<div class=\"bet-actorodd2 uk-width-1-2 uk-width-xsmall-1-2\">\n",
       "<a class=\"ellipsis zb-load odd odd2\" data-choice=\"f5a531d79ee2640320cf0643cacf60a7\" data-hash=\"4717136492\" data-href=\"/en/bettingslip/bet/4717136492\">\n",
       "<span class=\"pmq-cote\">\n",
       "        1,70    </span>\n",
       "<span class=\"pmq-cote-acteur uk-text-truncate\">\n",
       "                                    \n",
       "        IL Bisonte Firenze     </span>\n",
       "</a>\n",
       "</div>\n",
       "</div>\n",
       "</div>\n",
       "</div></div>\n",
       "</div>"
      ]
     },
     "execution_count": 51,
     "metadata": {},
     "output_type": "execute_result"
    }
   ],
   "source": []
  },
  {
   "cell_type": "code",
   "execution_count": null,
   "id": "98e43ee5",
   "metadata": {},
   "outputs": [],
   "source": []
  }
 ],
 "metadata": {
  "kernelspec": {
   "display_name": "scrapy",
   "language": "python",
   "name": "scrapy"
  },
  "language_info": {
   "codemirror_mode": {
    "name": "ipython",
    "version": 3
   },
   "file_extension": ".py",
   "mimetype": "text/x-python",
   "name": "python",
   "nbconvert_exporter": "python",
   "pygments_lexer": "ipython3",
   "version": "3.11.1"
  },
  "vscode": {
   "interpreter": {
    "hash": "b6fca1bd205ae6babd25571d4f4e47a925f2d79a65ba3391877c6a67962b89ba"
   }
  }
 },
 "nbformat": 4,
 "nbformat_minor": 5
}
