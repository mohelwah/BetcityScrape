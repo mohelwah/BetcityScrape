{
 "cells": [
  {
   "cell_type": "code",
   "execution_count": 48,
   "id": "2c6eb871",
   "metadata": {},
   "outputs": [],
   "source": [
    "from selenium import webdriver\n",
    "from selenium.webdriver.common.keys import Keys\n",
    "from selenium.webdriver.chrome.options import Options\n",
    "from selenium.webdriver.support.ui import Select\n",
    "from selenium.webdriver.common.by import By\n",
    "from selenium.webdriver.support.ui import WebDriverWait\n",
    "from selenium.webdriver.support import expected_conditions as EC\n",
    "from selenium.webdriver.support.select import Select\n",
    "from selenium.webdriver.common.action_chains import ActionChains\n",
    "import time\n",
    "from bs4 import BeautifulSoup"
   ]
  },
  {
   "cell_type": "code",
   "execution_count": 49,
   "id": "893abc58",
   "metadata": {},
   "outputs": [
    {
     "name": "stderr",
     "output_type": "stream",
     "text": [
      "C:\\Users\\Admin\\AppData\\Local\\Temp\\ipykernel_15228\\2724006734.py:3: DeprecationWarning: executable_path has been deprecated, please pass in a Service object\n",
      "  driver = webdriver.Chrome(executable_path=executable_path)\n"
     ]
    }
   ],
   "source": [
    "try:\n",
    "    executable_path = \"C:\\webdriver\\chromedriver.exe\"\n",
    "    driver = webdriver.Chrome(executable_path=executable_path)\n",
    "except:\n",
    "    driver = webdriver.Chrome()\n",
    "\n"
   ]
  },
  {
   "attachments": {},
   "cell_type": "markdown",
   "id": "deb2daf7",
   "metadata": {},
   "source": [
    "## main zebet page:"
   ]
  },
  {
   "cell_type": "code",
   "execution_count": 7,
   "id": "18c9e223",
   "metadata": {},
   "outputs": [],
   "source": [
    "driver.get(\"https://www.zebet.com/en/sport/14-volleyball\")"
   ]
  },
  {
   "cell_type": "code",
   "execution_count": 18,
   "id": "3cf3facd",
   "metadata": {},
   "outputs": [],
   "source": [
    "url = \"https://www.zebet.com/en/event/vsll2-st_nazaire_vb_narbonne\""
   ]
  },
  {
   "cell_type": "code",
   "execution_count": 50,
   "id": "ad724505",
   "metadata": {},
   "outputs": [],
   "source": [
    "driver.get('https://www.zebet.com/en/event/ijml2-volei_nestle_unilife_maringa')"
   ]
  },
  {
   "cell_type": "code",
   "execution_count": 51,
   "id": "d9f1072a",
   "metadata": {},
   "outputs": [],
   "source": [
    "soup = BeautifulSoup(driver.page_source, 'html.parser')"
   ]
  },
  {
   "cell_type": "code",
   "execution_count": null,
   "id": "100e3cbf",
   "metadata": {},
   "outputs": [],
   "source": [
    "t = \n",
    "for i in range(len(t)):\n",
    "    teams.append(t[i].text)"
   ]
  },
  {
   "cell_type": "code",
   "execution_count": 22,
   "id": "eb2a222a",
   "metadata": {},
   "outputs": [],
   "source": [
    "def click(webElement):\n",
    "    ActionChains(driver).move_to_element(webElement)\n",
    "    webElement.click()"
   ]
  },
  {
   "cell_type": "code",
   "execution_count": 20,
   "id": "2259d855",
   "metadata": {},
   "outputs": [],
   "source": [
    "over_under_list = []\n",
    "def scrape_over_under():\n",
    "    # The string that contains the odds for all over/under bets\n",
    "    over_under_string = \"\"\n",
    "        \n",
    "    # Find all over/under odds\n",
    "    try:\n",
    "        over_under = driver.find_element(By.XPATH, \".//div[@class='uk-accordion-wrapper item-bloc item filter0 filter1 filter2']\")\n",
    "    except:\n",
    "        over_under_list.append(0)\n",
    "        return\n",
    "        \n",
    "    # Show the over/under odds\n",
    "    click(over_under)\n",
    "    \n",
    "    # Find the odds\n",
    "    over_under_odds = over_under.find_elements(By.XPATH, \".//div[@class='KambiBC-outcomes-list__column']/button\")\n",
    "        \n",
    "    # The amount of over under odds\n",
    "    n = int(len(over_under_odds)/2)\n",
    "    \n",
    "    # Add all the over under odds to a formatted string\n",
    "    for i in range(n):\n",
    "        number = over_under_odds[i].find_element(By.XPATH, \".//div/div[1]/div[2]\").text\n",
    "        try:\n",
    "            odd_over = over_under_odds[i].find_element(By.XPATH, \".//div/div[2]/div[2]\").text\n",
    "        except:\n",
    "            odd_over = \"1\"\n",
    "        try:\n",
    "            odd_under = over_under_odds[i + n].find_element(By.XPATH, \".//div/div[2]/div[2]\").text\n",
    "        except:\n",
    "            odd_under = \"1\"\n",
    "        over_under_string += number + \"\\n\" + odd_over + \"\\n\" + odd_under + \"|\"\n",
    "    \n",
    "    # Add all the over/under odds to the right list\n",
    "    over_under_list.append(over_under_string)"
   ]
  },
  {
   "cell_type": "code",
   "execution_count": 37,
   "id": "94eb5641",
   "metadata": {},
   "outputs": [],
   "source": [
    "over_under = driver.find_element(By.XPATH, \".//div[@class='uk-accordion-wrapper item-bloc item filter0 filter1 filter2']\")\n",
    "click(over_under)"
   ]
  },
  {
   "cell_type": "code",
   "execution_count": 45,
   "id": "9f3d971c",
   "metadata": {},
   "outputs": [],
   "source": [
    "over_under_content = driver.find_element(By.XPATH, \".//div[@class='item-content over_under']\")"
   ]
  },
  {
   "cell_type": "code",
   "execution_count": 41,
   "id": "45946077",
   "metadata": {},
   "outputs": [
    {
     "data": {
      "text/plain": [
       "1"
      ]
     },
     "execution_count": 41,
     "metadata": {},
     "output_type": "execute_result"
    }
   ],
   "source": [
    "len(over_under_content)"
   ]
  },
  {
   "cell_type": "code",
   "execution_count": 54,
   "id": "2bb8fea7",
   "metadata": {},
   "outputs": [],
   "source": [
    "content = soup.find_all(class_=\"item-content over_under\")"
   ]
  },
  {
   "cell_type": "code",
   "execution_count": 62,
   "id": "5b49b824",
   "metadata": {},
   "outputs": [
    {
     "data": {
      "text/plain": [
       "[<div class=\"item-content over_under\">\n",
       " <div class=\"uk-flex uk-flex-middle uk-flex-space-between uk-flex-wrap uk-grid-small\">\n",
       " <div class=\"bet-actorodd2 uk-width-1-2 uk-width-xsmall-1-2\">\n",
       " <a class=\"ellipsis zb-load odd odd2\" data-choice=\"3c1705b69dc6741614df318eb11cabca\" data-hash=\"4716673606\" data-href=\"/en/bettingslip/bet/4716673606\">\n",
       " <span class=\"pmq-cote\">\n",
       "         1,73    </span>\n",
       " <span class=\"pmq-cote-acteur uk-text-truncate\">\n",
       "                                     \n",
       "         Over 140.5     </span>\n",
       " </a>\n",
       " </div>\n",
       " <div class=\"bet-actorodd2 uk-width-1-2 uk-width-xsmall-1-2\">\n",
       " <a class=\"ellipsis zb-load odd odd2\" data-choice=\"3f6a83569483619e9dc0409e912ab7d0\" data-hash=\"4716673607\" data-href=\"/en/bettingslip/bet/4716673607\">\n",
       " <span class=\"pmq-cote\">\n",
       "         1,73    </span>\n",
       " <span class=\"pmq-cote-acteur uk-text-truncate\">\n",
       "                                     \n",
       "         Under 140.5     </span>\n",
       " </a>\n",
       " </div>\n",
       " </div>\n",
       " </div>]"
      ]
     },
     "execution_count": 62,
     "metadata": {},
     "output_type": "execute_result"
    }
   ],
   "source": [
    "content"
   ]
  },
  {
   "cell_type": "code",
   "execution_count": null,
   "id": "0d779ee2",
   "metadata": {},
   "outputs": [],
   "source": []
  },
  {
   "cell_type": "code",
   "execution_count": null,
   "id": "1f9504ff",
   "metadata": {},
   "outputs": [],
   "source": []
  }
 ],
 "metadata": {
  "kernelspec": {
   "display_name": "scrapy",
   "language": "python",
   "name": "scrapy"
  },
  "language_info": {
   "codemirror_mode": {
    "name": "ipython",
    "version": 3
   },
   "file_extension": ".py",
   "mimetype": "text/x-python",
   "name": "python",
   "nbconvert_exporter": "python",
   "pygments_lexer": "ipython3",
   "version": "3.11.1"
  },
  "vscode": {
   "interpreter": {
    "hash": "b6fca1bd205ae6babd25571d4f4e47a925f2d79a65ba3391877c6a67962b89ba"
   }
  }
 },
 "nbformat": 4,
 "nbformat_minor": 5
}
