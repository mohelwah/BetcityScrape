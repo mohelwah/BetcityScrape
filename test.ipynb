{
 "cells": [
  {
   "attachments": {},
   "cell_type": "markdown",
   "id": "b188271f",
   "metadata": {},
   "source": [
    "### Betcity"
   ]
  },
  {
   "cell_type": "code",
   "execution_count": 97,
   "id": "1851b6cd-1739-4708-97fe-8b13246c4b7a",
   "metadata": {},
   "outputs": [
    {
     "name": "stderr",
     "output_type": "stream",
     "text": [
      "C:\\Users\\root\\AppData\\Local\\Temp\\ipykernel_17872\\3056313617.py:11: DeprecationWarning: executable_path has been deprecated, please pass in a Service object\n",
      "  driver = webdriver.Chrome(executable_path=executable_path)\n"
     ]
    }
   ],
   "source": [
    "from selenium import webdriver\n",
    "from selenium.webdriver.common.by import By\n",
    "from selenium.webdriver.common.keys import Keys\n",
    "from bs4 import BeautifulSoup\n",
    "import time\n",
    "from time import sleep\n",
    "from random import randint\n",
    "import pandas as pd\n",
    "\n",
    "executable_path = \"C:\\webdriver\\chromedriver.exe\"\n",
    "\n",
    "try:\n",
    "    driver = webdriver.Chrome(executable_path=executable_path)\n",
    "except:\n",
    "    driver = webdriver.Chrome()\n",
    "    \n",
    "url1 ='https://www.betcity.nl/sportsbook#sports-hub/volleyball/champions_league'\n",
    "url = 'https://www.betcity.nl/sportsbook#event/1019027302'\n",
    "driver.get(url)\n",
    "\n"
   ]
  },
  {
   "cell_type": "code",
   "execution_count": 34,
   "id": "55445366",
   "metadata": {},
   "outputs": [
    {
     "name": "stdout",
     "output_type": "stream",
     "text": [
      "this is Matches: [<selenium.webdriver.remote.webelement.WebElement (session=\"d5f8960cc1dece2da2999d642b40c42f\", element=\"f4987e23-364a-4ba1-aac8-44aa729557be\")>]\n"
     ]
    }
   ],
   "source": [
    "matches = driver.find_elements(By.XPATH, \".//li[@class='KambiBC-sandwich-filter__event-list-item KambiBC-sandwich-filter__event-list-competition-item']\")\n",
    "print(f'this is Matches: {matches}')"
   ]
  },
  {
   "cell_type": "code",
   "execution_count": 35,
   "id": "c53a9644",
   "metadata": {},
   "outputs": [
    {
     "name": "stdout",
     "output_type": "stream",
     "text": [
      "his is Match: <selenium.webdriver.remote.webelement.WebElement (session=\"d5f8960cc1dece2da2999d642b40c42f\", element=\"f4987e23-364a-4ba1-aac8-44aa729557be\")>\n",
      "his is Match_day: 20 mei\n",
      "his is Match_day: 20 mei\n",
      "his is Link: https://www.betcity.nl/sportsbook#event/1019377350\n",
      "his is Amount: 2\n",
      "befor amount > 40\n",
      "his is MatchLinks: ['https://www.betcity.nl/sportsbook#event/1019377350']\n"
     ]
    }
   ],
   "source": [
    "matchLinks = []\n",
    "for match in matches:\n",
    "    print(f'his is Match: {match}')\n",
    "    current_day = time.localtime()[6]\n",
    "    try:\n",
    "        match_day = match.find_element(By.XPATH, \".//span[@class='KambiBC-event-item__start-time--date']\").text\n",
    "        print(f'his is Match_day: {match_day}')\n",
    "\n",
    "    except:\n",
    "        continue\n",
    "    '''\n",
    "    print(f'start comparing')\n",
    "    if match_day == \"ma\":\n",
    "        match_day = 0\n",
    "        print(f'his is Match_day: {match_day}')\n",
    "    elif match_day == \"di\":\n",
    "        match_day = 1\n",
    "        print(f'his is Match_day: {match_day}')\n",
    "    elif match_day == \"wo\":\n",
    "        match_day = 2\n",
    "        print(f'his is Match_day: {match_day}')\n",
    "    elif match_day == \"do\":\n",
    "        match_day = 3\n",
    "        print(f'his is Match_day: {match_day}')\n",
    "    elif match_day == \"vr\":\n",
    "        match_day = 4\n",
    "        print(f'his is Match_day: {match_day}')\n",
    "    elif match_day == \"za\":\n",
    "        print(f'his is Match_day: {match_day}')\n",
    "        match_day = 5\n",
    "    elif match_day == \"zo\":\n",
    "        print(f'his is Match_day: {match_day}')\n",
    "        match_day = 6\n",
    "    else:\n",
    "        print('continue')\n",
    "        continue\n",
    "              \n",
    "    print(f'end comparing')\n",
    "\n",
    "    date_diff = match_day - current_day\n",
    "    if current_day != 6:\n",
    "        if date_diff < 0 or date_diff > 1 :\n",
    "            continue\n",
    "    else:\n",
    "        if match_day != 0 and match_day != 6:\n",
    "            continue\n",
    "    '''\n",
    "    print(f'his is Match_day: {match_day}')\n",
    "\n",
    "    link = match.find_element(By.XPATH, \".//a\").get_attribute('href')\n",
    "    print(f'his is Link: {link}')\n",
    "\n",
    "    try:\n",
    "        amount = int(match.find_element(By.XPATH, \".//div[@class='KambiBC-sandwich-filter_show-more-right-text']\").text.split(\"B\", 1)[0])\n",
    "        print(f'his is Amount: {amount}')\n",
    "\n",
    "    except:\n",
    "        continue\n",
    "    print('befor amount > 40')\n",
    "    if link.find('live') == -1 and amount < 40:\n",
    "        matchLinks.append(link)\n",
    "        print(f'his is MatchLinks: {matchLinks}')"
   ]
  },
  {
   "cell_type": "code",
   "execution_count": 29,
   "id": "320df997",
   "metadata": {},
   "outputs": [
    {
     "data": {
      "text/plain": [
       "-1"
      ]
     },
     "execution_count": 29,
     "metadata": {},
     "output_type": "execute_result"
    }
   ],
   "source": [
    "link.find('live')"
   ]
  },
  {
   "cell_type": "code",
   "execution_count": 36,
   "id": "36c87ae2",
   "metadata": {},
   "outputs": [],
   "source": [
    "driver.get(link)"
   ]
  },
  {
   "attachments": {},
   "cell_type": "markdown",
   "id": "a2dd1f74",
   "metadata": {},
   "source": [
    "#### This for winnar/top2"
   ]
  },
  {
   "cell_type": "code",
   "execution_count": 98,
   "id": "a02780a7",
   "metadata": {},
   "outputs": [],
   "source": [
    "soup = BeautifulSoup(driver.page_source, 'html.parser')"
   ]
  },
  {
   "cell_type": "code",
   "execution_count": 112,
   "id": "b73309d8",
   "metadata": {},
   "outputs": [],
   "source": [
    "# use beautiful soup to parse the html from selenium driver \n",
    "def volly_scrape(soup):\n",
    "    teams = []\n",
    "    winnar = []\n",
    "    top2 = []\n",
    "  \n",
    "    t = soup.find_all(class_=\"KambiBC-outcomes-list__label\")\n",
    "    for i in range(len(t)):\n",
    "        teams.append(t[i].text)\n",
    "    \n",
    "    numbers = soup.find_all(class_=\"OutcomeButton__Odds-sc-lxwzc0-6\")\n",
    "    for i in range(len(numbers)):\n",
    "        if i < len(numbers)/2:\n",
    "            winnar.append(float(numbers[i].text))\n",
    "        else:\n",
    "            top2.append(float(numbers[i].text))\n",
    "    return(teams,  winnar, top2)"
   ]
  },
  {
   "cell_type": "code",
   "execution_count": 113,
   "id": "57cbc5cc",
   "metadata": {},
   "outputs": [
    {
     "name": "stdout",
     "output_type": "stream",
     "text": [
      "['Sir Safety Susa Perugia', 'Itas Trentino', 'Gas Sales Bluenergy Piacenza', 'Modena Volley', 'Cucine Lube Civitanova', 'Allianz Milano', 'Vero Volley Monza', 'WithU Verona', 'Top Volley Cisterna', 'Emma Villas Aubay Siena'] [1.25, 7.85, 10.0, 12.0, 14.0, 61.0, 61.0, 61.0, 501.0, 9001.0] [1.08, 2.3, 2.9, 4.0, 4.5, 13.0, 13.0, 13.0, 251.0, 6001.0]\n"
     ]
    }
   ],
   "source": [
    "volly_scrape(soup)"
   ]
  },
  {
   "cell_type": "code",
   "execution_count": 111,
   "id": "dda803ef",
   "metadata": {},
   "outputs": [
    {
     "data": {
      "text/plain": [
       "[<span class=\"KambiBC-outcomes-list__label\"><span>Sir Safety Susa Perugia</span></span>,\n",
       " <span class=\"KambiBC-outcomes-list__label\"><span>Itas Trentino</span></span>,\n",
       " <span class=\"KambiBC-outcomes-list__label\"><span>Gas Sales Bluenergy Piacenza</span></span>,\n",
       " <span class=\"KambiBC-outcomes-list__label\"><span>Modena Volley</span></span>,\n",
       " <span class=\"KambiBC-outcomes-list__label\"><span>Cucine Lube Civitanova</span></span>,\n",
       " <span class=\"KambiBC-outcomes-list__label\"><span>Allianz Milano</span></span>,\n",
       " <span class=\"KambiBC-outcomes-list__label\"><span>Vero Volley Monza</span></span>,\n",
       " <span class=\"KambiBC-outcomes-list__label\"><span>WithU Verona</span></span>,\n",
       " <span class=\"KambiBC-outcomes-list__label\"><span>Top Volley Cisterna</span></span>,\n",
       " <span class=\"KambiBC-outcomes-list__label\"><span>Emma Villas Aubay Siena</span></span>]"
      ]
     },
     "execution_count": 111,
     "metadata": {},
     "output_type": "execute_result"
    }
   ],
   "source": [
    "teams"
   ]
  },
  {
   "cell_type": "code",
   "execution_count": 102,
   "id": "6e2c3ef7",
   "metadata": {},
   "outputs": [],
   "source": [
    "teams = soup.find_all(class_=\"KambiBC-outcomes-list__label\")"
   ]
  },
  {
   "cell_type": "code",
   "execution_count": 104,
   "id": "c8533c6b",
   "metadata": {},
   "outputs": [
    {
     "data": {
      "text/plain": [
       "'Sir Safety Susa Perugia'"
      ]
     },
     "execution_count": 104,
     "metadata": {},
     "output_type": "execute_result"
    }
   ],
   "source": [
    "teams[0].text"
   ]
  },
  {
   "cell_type": "code",
   "execution_count": 105,
   "id": "eba7cfc2",
   "metadata": {},
   "outputs": [
    {
     "name": "stdout",
     "output_type": "stream",
     "text": [
      "Sir Safety Susa Perugia\n",
      "Itas Trentino\n",
      "Gas Sales Bluenergy Piacenza\n",
      "Modena Volley\n",
      "Cucine Lube Civitanova\n",
      "Allianz Milano\n",
      "Vero Volley Monza\n",
      "WithU Verona\n",
      "Top Volley Cisterna\n",
      "Emma Villas Aubay Siena\n"
     ]
    }
   ],
   "source": []
  },
  {
   "cell_type": "code",
   "execution_count": 115,
   "id": "7843a7af",
   "metadata": {},
   "outputs": [
    {
     "data": {
      "text/plain": [
       "'c:\\\\Users\\\\root\\\\Desktop\\\\notebook\\\\1-Freelancer work\\\\BetcityScrape'"
      ]
     },
     "execution_count": 115,
     "metadata": {},
     "output_type": "execute_result"
    }
   ],
   "source": [
    "%pwd"
   ]
  },
  {
   "cell_type": "code",
   "execution_count": 117,
   "id": "09030e8e",
   "metadata": {},
   "outputs": [],
   "source": [
    "import pickle"
   ]
  },
  {
   "cell_type": "code",
   "execution_count": 118,
   "id": "52b2a303",
   "metadata": {},
   "outputs": [],
   "source": [
    "# open pickle file\n",
    "with open('df_betcity_volly_test', 'rb') as f:\n",
    "    df = pickle.load(f)\n"
   ]
  },
  {
   "cell_type": "code",
   "execution_count": 119,
   "id": "97564e54",
   "metadata": {},
   "outputs": [
    {
     "data": {
      "text/html": [
       "<div>\n",
       "<style scoped>\n",
       "    .dataframe tbody tr th:only-of-type {\n",
       "        vertical-align: middle;\n",
       "    }\n",
       "\n",
       "    .dataframe tbody tr th {\n",
       "        vertical-align: top;\n",
       "    }\n",
       "\n",
       "    .dataframe thead th {\n",
       "        text-align: right;\n",
       "    }\n",
       "</style>\n",
       "<table border=\"1\" class=\"dataframe\">\n",
       "  <thead>\n",
       "    <tr style=\"text-align: right;\">\n",
       "      <th></th>\n",
       "      <th>Teams</th>\n",
       "      <th>Winnar</th>\n",
       "      <th>Top2</th>\n",
       "    </tr>\n",
       "  </thead>\n",
       "  <tbody>\n",
       "    <tr>\n",
       "      <th>0</th>\n",
       "      <td>[Sir Safety Conad Perugia, Itas Trentino, Jast...</td>\n",
       "      <td>[1.5, 6.75, 8.2, 10.0, 13.0, 26.0, 81.0, 101.0]</td>\n",
       "      <td>[1.3, 4.6, 2.15, 2.6, 8.25, 6.5, 16.0, 51.0]</td>\n",
       "    </tr>\n",
       "    <tr>\n",
       "      <th>0</th>\n",
       "      <td>[Tours VB, Chaumont, St Nazaire, Nantes Rezé M...</td>\n",
       "      <td>[1.65, 8.0, 8.0, 12.0, 12.0, 14.0, 17.0, 17.0,...</td>\n",
       "      <td>[1.33, 2.75, 2.75, 5.0, 5.0, 5.5, 6.5, 6.5, 26...</td>\n",
       "    </tr>\n",
       "    <tr>\n",
       "      <th>0</th>\n",
       "      <td>[Nantes Volley (D), Volero Le Cannet (D), Aspt...</td>\n",
       "      <td>[3.35, 5.25, 5.75, 6.75, 6.75, 10.0, 11.0, 31....</td>\n",
       "      <td>[1.8, 2.8, 3.1, 3.4, 3.4, 4.2, 4.5, 13.0, 18.0...</td>\n",
       "    </tr>\n",
       "    <tr>\n",
       "      <th>0</th>\n",
       "      <td>[Sir Safety Susa Perugia, Itas Trentino, Gas S...</td>\n",
       "      <td>[1.45, 3.9, 8.5, 18.0]</td>\n",
       "      <td>[1.18, 1.22, 4.25, 3.8]</td>\n",
       "    </tr>\n",
       "    <tr>\n",
       "      <th>0</th>\n",
       "      <td>[Imoco Volley Conegliano (D), Pallavolo Scandi...</td>\n",
       "      <td>[1.5, 5.0, 6.0, 7.5, 65.0, 71.0, 91.0, 151.0, ...</td>\n",
       "      <td>[1.18, 1.72, 2.25, 2.55, 23.0, 26.0, 31.0, 41....</td>\n",
       "    </tr>\n",
       "  </tbody>\n",
       "</table>\n",
       "</div>"
      ],
      "text/plain": [
       "                                               Teams  \\\n",
       "0  [Sir Safety Conad Perugia, Itas Trentino, Jast...   \n",
       "0  [Tours VB, Chaumont, St Nazaire, Nantes Rezé M...   \n",
       "0  [Nantes Volley (D), Volero Le Cannet (D), Aspt...   \n",
       "0  [Sir Safety Susa Perugia, Itas Trentino, Gas S...   \n",
       "0  [Imoco Volley Conegliano (D), Pallavolo Scandi...   \n",
       "\n",
       "                                              Winnar  \\\n",
       "0    [1.5, 6.75, 8.2, 10.0, 13.0, 26.0, 81.0, 101.0]   \n",
       "0  [1.65, 8.0, 8.0, 12.0, 12.0, 14.0, 17.0, 17.0,...   \n",
       "0  [3.35, 5.25, 5.75, 6.75, 6.75, 10.0, 11.0, 31....   \n",
       "0                             [1.45, 3.9, 8.5, 18.0]   \n",
       "0  [1.5, 5.0, 6.0, 7.5, 65.0, 71.0, 91.0, 151.0, ...   \n",
       "\n",
       "                                                Top2  \n",
       "0       [1.3, 4.6, 2.15, 2.6, 8.25, 6.5, 16.0, 51.0]  \n",
       "0  [1.33, 2.75, 2.75, 5.0, 5.0, 5.5, 6.5, 6.5, 26...  \n",
       "0  [1.8, 2.8, 3.1, 3.4, 3.4, 4.2, 4.5, 13.0, 18.0...  \n",
       "0                            [1.18, 1.22, 4.25, 3.8]  \n",
       "0  [1.18, 1.72, 2.25, 2.55, 23.0, 26.0, 31.0, 41....  "
      ]
     },
     "execution_count": 119,
     "metadata": {},
     "output_type": "execute_result"
    }
   ],
   "source": [
    "df.head()"
   ]
  },
  {
   "attachments": {},
   "cell_type": "markdown",
   "id": "0771245a",
   "metadata": {},
   "source": [
    "## LivesScoreBet"
   ]
  },
  {
   "cell_type": "code",
   "execution_count": 1,
   "id": "601fb4fe",
   "metadata": {},
   "outputs": [
    {
     "ename": "WebDriverException",
     "evalue": "Message: unknown error: session deleted because of page crash\nfrom unknown error: cannot determine loading status\nfrom tab crashed\n  (Session info: chrome=110.0.5481.100)\nStacktrace:\n#0 0x563120f02b03 <unknown>\n#1 0x563120cd2dad <unknown>\n#2 0x563120cbee4c <unknown>\n#3 0x563120cbe2f1 <unknown>\n#4 0x563120cbd37b <unknown>\n#5 0x563120cbd1c4 <unknown>\n#6 0x563120cbbca2 <unknown>\n#7 0x563120cbc442 <unknown>\n#8 0x563120cc979f <unknown>\n#9 0x563120cca3f2 <unknown>\n#10 0x563120cda7d0 <unknown>\n#11 0x563120cdea70 <unknown>\n#12 0x563120cbc903 <unknown>\n#13 0x563120cda40c <unknown>\n#14 0x563120d4b2fa <unknown>\n#15 0x563120d32df3 <unknown>\n#16 0x563120d02900 <unknown>\n#17 0x563120d03af8 <unknown>\n#18 0x563120f570ce <unknown>\n#19 0x563120f5b090 <unknown>\n#20 0x563120f3b590 <unknown>\n#21 0x563120f5c31d <unknown>\n#22 0x563120f2c928 <unknown>\n#23 0x563120f813a8 <unknown>\n#24 0x563120f81536 <unknown>\n#25 0x563120f9b3f7 <unknown>\n#26 0x7f613a184609 start_thread\n",
     "output_type": "error",
     "traceback": [
      "\u001b[0;31m---------------------------------------------------------------------------\u001b[0m",
      "\u001b[0;31mWebDriverException\u001b[0m                        Traceback (most recent call last)",
      "Cell \u001b[0;32mIn[1], line 49\u001b[0m\n\u001b[1;32m     46\u001b[0m \u001b[39m#driver.get(\"https://www.livescorebet.com/\") #ok\u001b[39;00m\n\u001b[1;32m     48\u001b[0m url \u001b[39m=\u001b[39m \u001b[39m'\u001b[39m\u001b[39mhttps://www.livescorebet.com/nl-nl/sports/volleybal/SBTC1_19\u001b[39m\u001b[39m'\u001b[39m\n\u001b[0;32m---> 49\u001b[0m driver\u001b[39m.\u001b[39;49mget(url)\n\u001b[1;32m     50\u001b[0m \u001b[39mprint\u001b[39m(driver\u001b[39m.\u001b[39mtitle)\n\u001b[1;32m     51\u001b[0m sleep(\u001b[39m5000\u001b[39m)\n",
      "File \u001b[0;32m~/.local/lib/python3.10/site-packages/selenium/webdriver/remote/webdriver.py:449\u001b[0m, in \u001b[0;36mWebDriver.get\u001b[0;34m(self, url)\u001b[0m\n\u001b[1;32m    447\u001b[0m \u001b[39mdef\u001b[39;00m \u001b[39mget\u001b[39m(\u001b[39mself\u001b[39m, url: \u001b[39mstr\u001b[39m) \u001b[39m-\u001b[39m\u001b[39m>\u001b[39m \u001b[39mNone\u001b[39;00m:\n\u001b[1;32m    448\u001b[0m \u001b[39m    \u001b[39m\u001b[39m\"\"\"Loads a web page in the current browser session.\"\"\"\u001b[39;00m\n\u001b[0;32m--> 449\u001b[0m     \u001b[39mself\u001b[39;49m\u001b[39m.\u001b[39;49mexecute(Command\u001b[39m.\u001b[39;49mGET, {\u001b[39m\"\u001b[39;49m\u001b[39murl\u001b[39;49m\u001b[39m\"\u001b[39;49m: url})\n",
      "File \u001b[0;32m~/.local/lib/python3.10/site-packages/selenium/webdriver/remote/webdriver.py:440\u001b[0m, in \u001b[0;36mWebDriver.execute\u001b[0;34m(self, driver_command, params)\u001b[0m\n\u001b[1;32m    438\u001b[0m response \u001b[39m=\u001b[39m \u001b[39mself\u001b[39m\u001b[39m.\u001b[39mcommand_executor\u001b[39m.\u001b[39mexecute(driver_command, params)\n\u001b[1;32m    439\u001b[0m \u001b[39mif\u001b[39;00m response:\n\u001b[0;32m--> 440\u001b[0m     \u001b[39mself\u001b[39;49m\u001b[39m.\u001b[39;49merror_handler\u001b[39m.\u001b[39;49mcheck_response(response)\n\u001b[1;32m    441\u001b[0m     response[\u001b[39m\"\u001b[39m\u001b[39mvalue\u001b[39m\u001b[39m\"\u001b[39m] \u001b[39m=\u001b[39m \u001b[39mself\u001b[39m\u001b[39m.\u001b[39m_unwrap_value(response\u001b[39m.\u001b[39mget(\u001b[39m\"\u001b[39m\u001b[39mvalue\u001b[39m\u001b[39m\"\u001b[39m, \u001b[39mNone\u001b[39;00m))\n\u001b[1;32m    442\u001b[0m     \u001b[39mreturn\u001b[39;00m response\n",
      "File \u001b[0;32m~/.local/lib/python3.10/site-packages/selenium/webdriver/remote/errorhandler.py:245\u001b[0m, in \u001b[0;36mErrorHandler.check_response\u001b[0;34m(self, response)\u001b[0m\n\u001b[1;32m    243\u001b[0m         alert_text \u001b[39m=\u001b[39m value[\u001b[39m\"\u001b[39m\u001b[39malert\u001b[39m\u001b[39m\"\u001b[39m]\u001b[39m.\u001b[39mget(\u001b[39m\"\u001b[39m\u001b[39mtext\u001b[39m\u001b[39m\"\u001b[39m)\n\u001b[1;32m    244\u001b[0m     \u001b[39mraise\u001b[39;00m exception_class(message, screen, stacktrace, alert_text)  \u001b[39m# type: ignore[call-arg]  # mypy is not smart enough here\u001b[39;00m\n\u001b[0;32m--> 245\u001b[0m \u001b[39mraise\u001b[39;00m exception_class(message, screen, stacktrace)\n",
      "\u001b[0;31mWebDriverException\u001b[0m: Message: unknown error: session deleted because of page crash\nfrom unknown error: cannot determine loading status\nfrom tab crashed\n  (Session info: chrome=110.0.5481.100)\nStacktrace:\n#0 0x563120f02b03 <unknown>\n#1 0x563120cd2dad <unknown>\n#2 0x563120cbee4c <unknown>\n#3 0x563120cbe2f1 <unknown>\n#4 0x563120cbd37b <unknown>\n#5 0x563120cbd1c4 <unknown>\n#6 0x563120cbbca2 <unknown>\n#7 0x563120cbc442 <unknown>\n#8 0x563120cc979f <unknown>\n#9 0x563120cca3f2 <unknown>\n#10 0x563120cda7d0 <unknown>\n#11 0x563120cdea70 <unknown>\n#12 0x563120cbc903 <unknown>\n#13 0x563120cda40c <unknown>\n#14 0x563120d4b2fa <unknown>\n#15 0x563120d32df3 <unknown>\n#16 0x563120d02900 <unknown>\n#17 0x563120d03af8 <unknown>\n#18 0x563120f570ce <unknown>\n#19 0x563120f5b090 <unknown>\n#20 0x563120f3b590 <unknown>\n#21 0x563120f5c31d <unknown>\n#22 0x563120f2c928 <unknown>\n#23 0x563120f813a8 <unknown>\n#24 0x563120f81536 <unknown>\n#25 0x563120f9b3f7 <unknown>\n#26 0x7f613a184609 start_thread\n"
     ]
    }
   ],
   "source": [
    "from selenium import webdriver\n",
    "from selenium.webdriver.common.by import By\n",
    "from selenium.webdriver.support.ui import WebDriverWait\n",
    "from selenium.webdriver.support import expected_conditions as EC\n",
    "from webdriver_manager.chrome import ChromeDriverManager\n",
    "\n",
    "from selenium.webdriver.chrome.options import Options\n",
    "from selenium.webdriver.chrome.service import Service\n",
    "import chromedriver_autoinstaller\n",
    "\n",
    "import requests  # 2\n",
    "import json  # 3\n",
    "\n",
    "from pyvirtualdisplay import Display\n",
    "display = Display(visible=0, size=(800, 800))\n",
    "display.start()\n",
    "\n",
    "# Check if the current version of chromedriver exists\n",
    "chromedriver_autoinstaller.install()\n",
    "# and if it doesn't exist, download it automatically,\n",
    "# then add chromedriver to path\n",
    "\n",
    "chrome_options = webdriver.ChromeOptions()\n",
    "# Add your options as needed\n",
    "options = [\n",
    "    # Define window size here\n",
    "    \"--window-size=1200,1200\",\n",
    "    \"--ignore-certificate-errors\"\n",
    "\n",
    "    # \"--headless\",\n",
    "    # \"--disable-gpu\",\n",
    "    # \"--window-size=1920,1200\",\n",
    "    # \"--ignore-certificate-errors\",\n",
    "    # \"--disable-extensions\",\n",
    "    # \"--no-sandbox\",\n",
    "    # \"--disable-dev-shm-usage\",\n",
    "    # '--remote-debugging-port=9222'\n",
    "]\n",
    "\n",
    "for option in options:\n",
    "    chrome_options.add_argument(option)\n",
    "\n",
    "\n",
    "driver = webdriver.Chrome(options=chrome_options)\n",
    "\n",
    "#driver.get(\"https://www.livescorebet.com/\") #ok\n",
    "\n",
    "url = 'https://www.livescorebet.com/nl-nl/sports/volleybal/SBTC1_19'\n",
    "driver.get(url)\n",
    "print(driver.title)\n",
    "sleep(5000)"
   ]
  },
  {
   "cell_type": "code",
   "execution_count": null,
   "id": "607ea193",
   "metadata": {},
   "outputs": [],
   "source": []
  }
 ],
 "metadata": {
  "kernelspec": {
   "display_name": "Python 3",
   "language": "python",
   "name": "python3"
  },
  "language_info": {
   "codemirror_mode": {
    "name": "ipython",
    "version": 3
   },
   "file_extension": ".py",
   "mimetype": "text/x-python",
   "name": "python",
   "nbconvert_exporter": "python",
   "pygments_lexer": "ipython3",
   "version": "3.10.4"
  },
  "vscode": {
   "interpreter": {
    "hash": "3ad933181bd8a04b432d3370b9dc3b0662ad032c4dfaa4e4f1596c548f763858"
   }
  }
 },
 "nbformat": 4,
 "nbformat_minor": 5
}
