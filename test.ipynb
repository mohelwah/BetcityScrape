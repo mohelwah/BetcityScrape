{
 "cells": [
  {
   "cell_type": "code",
   "execution_count": 37,
   "id": "1851b6cd-1739-4708-97fe-8b13246c4b7a",
   "metadata": {},
   "outputs": [
    {
     "name": "stderr",
     "output_type": "stream",
     "text": [
      "C:\\Users\\root\\AppData\\Local\\Temp\\ipykernel_17872\\3056313617.py:11: DeprecationWarning: executable_path has been deprecated, please pass in a Service object\n",
      "  driver = webdriver.Chrome(executable_path=executable_path)\n"
     ]
    }
   ],
   "source": [
    "from selenium import webdriver\n",
    "from selenium.webdriver.common.by import By\n",
    "from selenium.webdriver.common.keys import Keys\n",
    "from bs4 import BeautifulSoup\n",
    "import time\n",
    "from time import sleep\n",
    "from random import randint\n",
    "import pandas as pd\n",
    "\n",
    "executable_path = \"C:\\webdriver\\chromedriver.exe\"\n",
    "driver = webdriver.Chrome(executable_path=executable_path)\n",
    "url1 ='https://www.betcity.nl/sportsbook#sports-hub/volleyball/champions_league'\n",
    "url = 'https://www.betcity.nl/sportsbook#event/1019027302'\n",
    "driver.get(url)\n",
    "\n"
   ]
  },
  {
   "cell_type": "code",
   "execution_count": 34,
   "id": "55445366",
   "metadata": {},
   "outputs": [
    {
     "name": "stdout",
     "output_type": "stream",
     "text": [
      "this is Matches: [<selenium.webdriver.remote.webelement.WebElement (session=\"d5f8960cc1dece2da2999d642b40c42f\", element=\"f4987e23-364a-4ba1-aac8-44aa729557be\")>]\n"
     ]
    }
   ],
   "source": [
    "matches = driver.find_elements(By.XPATH, \".//li[@class='KambiBC-sandwich-filter__event-list-item KambiBC-sandwich-filter__event-list-competition-item']\")\n",
    "print(f'this is Matches: {matches}')"
   ]
  },
  {
   "cell_type": "code",
   "execution_count": 35,
   "id": "c53a9644",
   "metadata": {},
   "outputs": [
    {
     "name": "stdout",
     "output_type": "stream",
     "text": [
      "his is Match: <selenium.webdriver.remote.webelement.WebElement (session=\"d5f8960cc1dece2da2999d642b40c42f\", element=\"f4987e23-364a-4ba1-aac8-44aa729557be\")>\n",
      "his is Match_day: 20 mei\n",
      "his is Match_day: 20 mei\n",
      "his is Link: https://www.betcity.nl/sportsbook#event/1019377350\n",
      "his is Amount: 2\n",
      "befor amount > 40\n",
      "his is MatchLinks: ['https://www.betcity.nl/sportsbook#event/1019377350']\n"
     ]
    }
   ],
   "source": [
    "matchLinks = []\n",
    "for match in matches:\n",
    "    print(f'his is Match: {match}')\n",
    "    current_day = time.localtime()[6]\n",
    "    try:\n",
    "        match_day = match.find_element(By.XPATH, \".//span[@class='KambiBC-event-item__start-time--date']\").text\n",
    "        print(f'his is Match_day: {match_day}')\n",
    "\n",
    "    except:\n",
    "        continue\n",
    "    '''\n",
    "    print(f'start comparing')\n",
    "    if match_day == \"ma\":\n",
    "        match_day = 0\n",
    "        print(f'his is Match_day: {match_day}')\n",
    "    elif match_day == \"di\":\n",
    "        match_day = 1\n",
    "        print(f'his is Match_day: {match_day}')\n",
    "    elif match_day == \"wo\":\n",
    "        match_day = 2\n",
    "        print(f'his is Match_day: {match_day}')\n",
    "    elif match_day == \"do\":\n",
    "        match_day = 3\n",
    "        print(f'his is Match_day: {match_day}')\n",
    "    elif match_day == \"vr\":\n",
    "        match_day = 4\n",
    "        print(f'his is Match_day: {match_day}')\n",
    "    elif match_day == \"za\":\n",
    "        print(f'his is Match_day: {match_day}')\n",
    "        match_day = 5\n",
    "    elif match_day == \"zo\":\n",
    "        print(f'his is Match_day: {match_day}')\n",
    "        match_day = 6\n",
    "    else:\n",
    "        print('continue')\n",
    "        continue\n",
    "              \n",
    "    print(f'end comparing')\n",
    "\n",
    "    date_diff = match_day - current_day\n",
    "    if current_day != 6:\n",
    "        if date_diff < 0 or date_diff > 1 :\n",
    "            continue\n",
    "    else:\n",
    "        if match_day != 0 and match_day != 6:\n",
    "            continue\n",
    "    '''\n",
    "    print(f'his is Match_day: {match_day}')\n",
    "\n",
    "    link = match.find_element(By.XPATH, \".//a\").get_attribute('href')\n",
    "    print(f'his is Link: {link}')\n",
    "\n",
    "    try:\n",
    "        amount = int(match.find_element(By.XPATH, \".//div[@class='KambiBC-sandwich-filter_show-more-right-text']\").text.split(\"B\", 1)[0])\n",
    "        print(f'his is Amount: {amount}')\n",
    "\n",
    "    except:\n",
    "        continue\n",
    "    print('befor amount > 40')\n",
    "    if link.find('live') == -1 and amount < 40:\n",
    "        matchLinks.append(link)\n",
    "        print(f'his is MatchLinks: {matchLinks}')"
   ]
  },
  {
   "cell_type": "code",
   "execution_count": 29,
   "id": "320df997",
   "metadata": {},
   "outputs": [
    {
     "data": {
      "text/plain": [
       "-1"
      ]
     },
     "execution_count": 29,
     "metadata": {},
     "output_type": "execute_result"
    }
   ],
   "source": [
    "link.find('live')"
   ]
  },
  {
   "cell_type": "code",
   "execution_count": 36,
   "id": "36c87ae2",
   "metadata": {},
   "outputs": [],
   "source": [
    "driver.get(link)"
   ]
  },
  {
   "cell_type": "code",
   "execution_count": 75,
   "id": "9b749104",
   "metadata": {},
   "outputs": [
    {
     "data": {
      "text/plain": [
       "selenium.webdriver.remote.webelement.WebElement"
      ]
     },
     "execution_count": 75,
     "metadata": {},
     "output_type": "execute_result"
    }
   ],
   "source": [
    "type(teams[0])"
   ]
  },
  {
   "cell_type": "code",
   "execution_count": 67,
   "id": "4da230dc",
   "metadata": {},
   "outputs": [],
   "source": [
    "teams = driver.find_elements(By.CLASS_NAME, \"KambiBC-outcomes-list__label\")"
   ]
  },
  {
   "cell_type": "code",
   "execution_count": 73,
   "id": "d52c9dd6",
   "metadata": {},
   "outputs": [
    {
     "ename": "StaleElementReferenceException",
     "evalue": "Message: stale element reference: element is not attached to the page document\n  (Session info: chrome=110.0.5481.77)\nStacktrace:\nBacktrace:\n\t(No symbol) [0x01096643]\n\t(No symbol) [0x0102BE21]\n\t(No symbol) [0x00F2DA9D]\n\t(No symbol) [0x00F309E4]\n\t(No symbol) [0x00F308AD]\n\t(No symbol) [0x00F30B30]\n\t(No symbol) [0x00F5C7C0]\n\t(No symbol) [0x00F7FD7C]\n\t(No symbol) [0x00F5641F]\n\t(No symbol) [0x00F800D4]\n\t(No symbol) [0x00F96B09]\n\t(No symbol) [0x00F7FB76]\n\t(No symbol) [0x00F549C1]\n\t(No symbol) [0x00F55E5D]\n\tGetHandleVerifier [0x0130A142+2497106]\n\tGetHandleVerifier [0x013385D3+2686691]\n\tGetHandleVerifier [0x0133BB9C+2700460]\n\tGetHandleVerifier [0x01143B10+635936]\n\t(No symbol) [0x01034A1F]\n\t(No symbol) [0x0103A418]\n\t(No symbol) [0x0103A505]\n\t(No symbol) [0x0104508B]\n\tBaseThreadInitThunk [0x758A00F9+25]\n\tRtlGetAppContainerNamedObjectPath [0x77737BBE+286]\n\tRtlGetAppContainerNamedObjectPath [0x77737B8E+238]\n",
     "output_type": "error",
     "traceback": [
      "\u001b[1;31m---------------------------------------------------------------------------\u001b[0m",
      "\u001b[1;31mStaleElementReferenceException\u001b[0m            Traceback (most recent call last)",
      "Cell \u001b[1;32mIn[73], line 2\u001b[0m\n\u001b[0;32m      1\u001b[0m \u001b[39mfor\u001b[39;00m i \u001b[39min\u001b[39;00m \u001b[39mrange\u001b[39m(\u001b[39mlen\u001b[39m(teams)):\n\u001b[1;32m----> 2\u001b[0m     teams[i]\u001b[39m.\u001b[39;49mtext\n\u001b[0;32m      3\u001b[0m     \u001b[39mbreak\u001b[39;00m\n",
      "File \u001b[1;32mc:\\venv\\newBot\\lib\\site-packages\\selenium\\webdriver\\remote\\webelement.py:89\u001b[0m, in \u001b[0;36mWebElement.text\u001b[1;34m(self)\u001b[0m\n\u001b[0;32m     86\u001b[0m \u001b[39m@property\u001b[39m\n\u001b[0;32m     87\u001b[0m \u001b[39mdef\u001b[39;00m \u001b[39mtext\u001b[39m(\u001b[39mself\u001b[39m) \u001b[39m-\u001b[39m\u001b[39m>\u001b[39m \u001b[39mstr\u001b[39m:\n\u001b[0;32m     88\u001b[0m \u001b[39m    \u001b[39m\u001b[39m\"\"\"The text of the element.\"\"\"\u001b[39;00m\n\u001b[1;32m---> 89\u001b[0m     \u001b[39mreturn\u001b[39;00m \u001b[39mself\u001b[39;49m\u001b[39m.\u001b[39;49m_execute(Command\u001b[39m.\u001b[39;49mGET_ELEMENT_TEXT)[\u001b[39m\"\u001b[39m\u001b[39mvalue\u001b[39m\u001b[39m\"\u001b[39m]\n",
      "File \u001b[1;32mc:\\venv\\newBot\\lib\\site-packages\\selenium\\webdriver\\remote\\webelement.py:403\u001b[0m, in \u001b[0;36mWebElement._execute\u001b[1;34m(self, command, params)\u001b[0m\n\u001b[0;32m    401\u001b[0m     params \u001b[39m=\u001b[39m {}\n\u001b[0;32m    402\u001b[0m params[\u001b[39m\"\u001b[39m\u001b[39mid\u001b[39m\u001b[39m\"\u001b[39m] \u001b[39m=\u001b[39m \u001b[39mself\u001b[39m\u001b[39m.\u001b[39m_id\n\u001b[1;32m--> 403\u001b[0m \u001b[39mreturn\u001b[39;00m \u001b[39mself\u001b[39;49m\u001b[39m.\u001b[39;49m_parent\u001b[39m.\u001b[39;49mexecute(command, params)\n",
      "File \u001b[1;32mc:\\venv\\newBot\\lib\\site-packages\\selenium\\webdriver\\remote\\webdriver.py:440\u001b[0m, in \u001b[0;36mWebDriver.execute\u001b[1;34m(self, driver_command, params)\u001b[0m\n\u001b[0;32m    438\u001b[0m response \u001b[39m=\u001b[39m \u001b[39mself\u001b[39m\u001b[39m.\u001b[39mcommand_executor\u001b[39m.\u001b[39mexecute(driver_command, params)\n\u001b[0;32m    439\u001b[0m \u001b[39mif\u001b[39;00m response:\n\u001b[1;32m--> 440\u001b[0m     \u001b[39mself\u001b[39;49m\u001b[39m.\u001b[39;49merror_handler\u001b[39m.\u001b[39;49mcheck_response(response)\n\u001b[0;32m    441\u001b[0m     response[\u001b[39m\"\u001b[39m\u001b[39mvalue\u001b[39m\u001b[39m\"\u001b[39m] \u001b[39m=\u001b[39m \u001b[39mself\u001b[39m\u001b[39m.\u001b[39m_unwrap_value(response\u001b[39m.\u001b[39mget(\u001b[39m\"\u001b[39m\u001b[39mvalue\u001b[39m\u001b[39m\"\u001b[39m, \u001b[39mNone\u001b[39;00m))\n\u001b[0;32m    442\u001b[0m     \u001b[39mreturn\u001b[39;00m response\n",
      "File \u001b[1;32mc:\\venv\\newBot\\lib\\site-packages\\selenium\\webdriver\\remote\\errorhandler.py:245\u001b[0m, in \u001b[0;36mErrorHandler.check_response\u001b[1;34m(self, response)\u001b[0m\n\u001b[0;32m    243\u001b[0m         alert_text \u001b[39m=\u001b[39m value[\u001b[39m\"\u001b[39m\u001b[39malert\u001b[39m\u001b[39m\"\u001b[39m]\u001b[39m.\u001b[39mget(\u001b[39m\"\u001b[39m\u001b[39mtext\u001b[39m\u001b[39m\"\u001b[39m)\n\u001b[0;32m    244\u001b[0m     \u001b[39mraise\u001b[39;00m exception_class(message, screen, stacktrace, alert_text)  \u001b[39m# type: ignore[call-arg]  # mypy is not smart enough here\u001b[39;00m\n\u001b[1;32m--> 245\u001b[0m \u001b[39mraise\u001b[39;00m exception_class(message, screen, stacktrace)\n",
      "\u001b[1;31mStaleElementReferenceException\u001b[0m: Message: stale element reference: element is not attached to the page document\n  (Session info: chrome=110.0.5481.77)\nStacktrace:\nBacktrace:\n\t(No symbol) [0x01096643]\n\t(No symbol) [0x0102BE21]\n\t(No symbol) [0x00F2DA9D]\n\t(No symbol) [0x00F309E4]\n\t(No symbol) [0x00F308AD]\n\t(No symbol) [0x00F30B30]\n\t(No symbol) [0x00F5C7C0]\n\t(No symbol) [0x00F7FD7C]\n\t(No symbol) [0x00F5641F]\n\t(No symbol) [0x00F800D4]\n\t(No symbol) [0x00F96B09]\n\t(No symbol) [0x00F7FB76]\n\t(No symbol) [0x00F549C1]\n\t(No symbol) [0x00F55E5D]\n\tGetHandleVerifier [0x0130A142+2497106]\n\tGetHandleVerifier [0x013385D3+2686691]\n\tGetHandleVerifier [0x0133BB9C+2700460]\n\tGetHandleVerifier [0x01143B10+635936]\n\t(No symbol) [0x01034A1F]\n\t(No symbol) [0x0103A418]\n\t(No symbol) [0x0103A505]\n\t(No symbol) [0x0104508B]\n\tBaseThreadInitThunk [0x758A00F9+25]\n\tRtlGetAppContainerNamedObjectPath [0x77737BBE+286]\n\tRtlGetAppContainerNamedObjectPath [0x77737B8E+238]\n"
     ]
    }
   ],
   "source": [
    "for i in range(len(teams)):\n",
    "    teams[i].text\n",
    "    break"
   ]
  },
  {
   "cell_type": "code",
   "execution_count": 64,
   "id": "b8c8556f",
   "metadata": {},
   "outputs": [
    {
     "data": {
      "text/plain": [
       "<selenium.webdriver.remote.webelement.WebElement (session=\"39ec89c499362aca0b1a0a88089bb595\", element=\"e022fea8-706c-4798-afac-4940f8130440\")>"
      ]
     },
     "execution_count": 64,
     "metadata": {},
     "output_type": "execute_result"
    }
   ],
   "source": []
  },
  {
   "cell_type": "code",
   "execution_count": 70,
   "id": "979aebd0",
   "metadata": {},
   "outputs": [
    {
     "data": {
      "text/plain": [
       "'Sir Safety Susa Perugia'"
      ]
     },
     "execution_count": 70,
     "metadata": {},
     "output_type": "execute_result"
    }
   ],
   "source": [
    "driver.find_elements(By.CLASS_NAME, \"KambiBC-outcomes-list__label\")[0].text"
   ]
  },
  {
   "cell_type": "code",
   "execution_count": 77,
   "id": "b73309d8",
   "metadata": {},
   "outputs": [
    {
     "name": "stdout",
     "output_type": "stream",
     "text": [
      "Sir Safety Susa Perugia\n",
      "Itas Trentino\n",
      "Gas Sales Bluenergy Piacenza\n",
      "Modena Volley\n",
      "Cucine Lube Civitanova\n",
      "Allianz Milano\n",
      "Vero Volley Monza\n",
      "WithU Verona\n",
      "Top Volley Cisterna\n",
      "Emma Villas Aubay Siena\n"
     ]
    }
   ],
   "source": [
    "# use beautiful soup to parse the html from selenium driver \n",
    "soup = BeautifulSoup(driver.page_source, 'html.parser')\n",
    "\n",
    "# find elements by class name\n",
    "teams = soup.find_all(class_=\"KambiBC-outcomes-list__label\")\n",
    "#print team names\n",
    "for team in teams:\n",
    "    print(team.text)\n"
   ]
  },
  {
   "cell_type": "code",
   "execution_count": 91,
   "id": "57cbc5cc",
   "metadata": {},
   "outputs": [],
   "source": [
    "numbers = soup.find_all(class_=\"OutcomeButton__Odds-sc-lxwzc0-6\")\n",
    "winnar = []\n",
    "top2 = []\n",
    "for i in range(len(numbers)):\n",
    "    if i < len(numbers)/2:\n",
    "        winnar.append(int(numbers[i].text))\n",
    "    else:\n",
    "        top2.append(int(numbers[i].text))\n",
    "    "
   ]
  },
  {
   "cell_type": "code",
   "execution_count": 94,
   "id": "6e2c3ef7",
   "metadata": {},
   "outputs": [
    {
     "data": {
      "text/plain": [
       "(10, 10, 10)"
      ]
     },
     "execution_count": 94,
     "metadata": {},
     "output_type": "execute_result"
    }
   ],
   "source": [
    "len(winnar), len(teams), len(top2)"
   ]
  },
  {
   "cell_type": "code",
   "execution_count": null,
   "id": "eba7cfc2",
   "metadata": {},
   "outputs": [],
   "source": []
  },
  {
   "cell_type": "code",
   "execution_count": null,
   "id": "52b2a303",
   "metadata": {},
   "outputs": [],
   "source": []
  },
  {
   "cell_type": "code",
   "execution_count": null,
   "id": "97564e54",
   "metadata": {},
   "outputs": [],
   "source": []
  }
 ],
 "metadata": {
  "kernelspec": {
   "display_name": "heliumbot",
   "language": "python",
   "name": "heliumbot"
  },
  "language_info": {
   "codemirror_mode": {
    "name": "ipython",
    "version": 3
   },
   "file_extension": ".py",
   "mimetype": "text/x-python",
   "name": "python",
   "nbconvert_exporter": "python",
   "pygments_lexer": "ipython3",
   "version": "3.9.12"
  }
 },
 "nbformat": 4,
 "nbformat_minor": 5
}
