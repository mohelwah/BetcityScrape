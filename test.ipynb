{
 "cells": [
  {
   "attachments": {},
   "cell_type": "markdown",
   "id": "b188271f",
   "metadata": {},
   "source": [
    "### Betcity"
   ]
  },
  {
   "cell_type": "code",
   "execution_count": 97,
   "id": "1851b6cd-1739-4708-97fe-8b13246c4b7a",
   "metadata": {},
   "outputs": [
    {
     "name": "stderr",
     "output_type": "stream",
     "text": [
      "C:\\Users\\root\\AppData\\Local\\Temp\\ipykernel_17872\\3056313617.py:11: DeprecationWarning: executable_path has been deprecated, please pass in a Service object\n",
      "  driver = webdriver.Chrome(executable_path=executable_path)\n"
     ]
    }
   ],
   "source": [
    "from selenium import webdriver\n",
    "from selenium.webdriver.common.by import By\n",
    "from selenium.webdriver.common.keys import Keys\n",
    "from bs4 import BeautifulSoup\n",
    "import time\n",
    "from time import sleep\n",
    "from random import randint\n",
    "import pandas as pd\n",
    "\n",
    "executable_path = \"C:\\webdriver\\chromedriver.exe\"\n",
    "\n",
    "try:\n",
    "    driver = webdriver.Chrome(executable_path=executable_path)\n",
    "except:\n",
    "    driver = webdriver.Chrome()\n",
    "    \n",
    "url1 ='https://www.betcity.nl/sportsbook#sports-hub/volleyball/champions_league'\n",
    "url = 'https://www.betcity.nl/sportsbook#event/1019027302'\n",
    "driver.get(url)\n",
    "\n"
   ]
  },
  {
   "cell_type": "code",
   "execution_count": 34,
   "id": "55445366",
   "metadata": {},
   "outputs": [
    {
     "name": "stdout",
     "output_type": "stream",
     "text": [
      "this is Matches: [<selenium.webdriver.remote.webelement.WebElement (session=\"d5f8960cc1dece2da2999d642b40c42f\", element=\"f4987e23-364a-4ba1-aac8-44aa729557be\")>]\n"
     ]
    }
   ],
   "source": [
    "matches = driver.find_elements(By.XPATH, \".//li[@class='KambiBC-sandwich-filter__event-list-item KambiBC-sandwich-filter__event-list-competition-item']\")\n",
    "print(f'this is Matches: {matches}')"
   ]
  },
  {
   "cell_type": "code",
   "execution_count": 35,
   "id": "c53a9644",
   "metadata": {},
   "outputs": [
    {
     "name": "stdout",
     "output_type": "stream",
     "text": [
      "his is Match: <selenium.webdriver.remote.webelement.WebElement (session=\"d5f8960cc1dece2da2999d642b40c42f\", element=\"f4987e23-364a-4ba1-aac8-44aa729557be\")>\n",
      "his is Match_day: 20 mei\n",
      "his is Match_day: 20 mei\n",
      "his is Link: https://www.betcity.nl/sportsbook#event/1019377350\n",
      "his is Amount: 2\n",
      "befor amount > 40\n",
      "his is MatchLinks: ['https://www.betcity.nl/sportsbook#event/1019377350']\n"
     ]
    }
   ],
   "source": [
    "matchLinks = []\n",
    "for match in matches:\n",
    "    print(f'his is Match: {match}')\n",
    "    current_day = time.localtime()[6]\n",
    "    try:\n",
    "        match_day = match.find_element(By.XPATH, \".//span[@class='KambiBC-event-item__start-time--date']\").text\n",
    "        print(f'his is Match_day: {match_day}')\n",
    "\n",
    "    except:\n",
    "        continue\n",
    "    '''\n",
    "    print(f'start comparing')\n",
    "    if match_day == \"ma\":\n",
    "        match_day = 0\n",
    "        print(f'his is Match_day: {match_day}')\n",
    "    elif match_day == \"di\":\n",
    "        match_day = 1\n",
    "        print(f'his is Match_day: {match_day}')\n",
    "    elif match_day == \"wo\":\n",
    "        match_day = 2\n",
    "        print(f'his is Match_day: {match_day}')\n",
    "    elif match_day == \"do\":\n",
    "        match_day = 3\n",
    "        print(f'his is Match_day: {match_day}')\n",
    "    elif match_day == \"vr\":\n",
    "        match_day = 4\n",
    "        print(f'his is Match_day: {match_day}')\n",
    "    elif match_day == \"za\":\n",
    "        print(f'his is Match_day: {match_day}')\n",
    "        match_day = 5\n",
    "    elif match_day == \"zo\":\n",
    "        print(f'his is Match_day: {match_day}')\n",
    "        match_day = 6\n",
    "    else:\n",
    "        print('continue')\n",
    "        continue\n",
    "              \n",
    "    print(f'end comparing')\n",
    "\n",
    "    date_diff = match_day - current_day\n",
    "    if current_day != 6:\n",
    "        if date_diff < 0 or date_diff > 1 :\n",
    "            continue\n",
    "    else:\n",
    "        if match_day != 0 and match_day != 6:\n",
    "            continue\n",
    "    '''\n",
    "    print(f'his is Match_day: {match_day}')\n",
    "\n",
    "    link = match.find_element(By.XPATH, \".//a\").get_attribute('href')\n",
    "    print(f'his is Link: {link}')\n",
    "\n",
    "    try:\n",
    "        amount = int(match.find_element(By.XPATH, \".//div[@class='KambiBC-sandwich-filter_show-more-right-text']\").text.split(\"B\", 1)[0])\n",
    "        print(f'his is Amount: {amount}')\n",
    "\n",
    "    except:\n",
    "        continue\n",
    "    print('befor amount > 40')\n",
    "    if link.find('live') == -1 and amount < 40:\n",
    "        matchLinks.append(link)\n",
    "        print(f'his is MatchLinks: {matchLinks}')"
   ]
  },
  {
   "cell_type": "code",
   "execution_count": 29,
   "id": "320df997",
   "metadata": {},
   "outputs": [
    {
     "data": {
      "text/plain": [
       "-1"
      ]
     },
     "execution_count": 29,
     "metadata": {},
     "output_type": "execute_result"
    }
   ],
   "source": [
    "link.find('live')"
   ]
  },
  {
   "cell_type": "code",
   "execution_count": 36,
   "id": "36c87ae2",
   "metadata": {},
   "outputs": [],
   "source": [
    "driver.get(link)"
   ]
  },
  {
   "attachments": {},
   "cell_type": "markdown",
   "id": "a2dd1f74",
   "metadata": {},
   "source": [
    "#### This for winnar/top2"
   ]
  },
  {
   "cell_type": "code",
   "execution_count": 98,
   "id": "a02780a7",
   "metadata": {},
   "outputs": [],
   "source": [
    "soup = BeautifulSoup(driver.page_source, 'html.parser')"
   ]
  },
  {
   "cell_type": "code",
   "execution_count": 112,
   "id": "b73309d8",
   "metadata": {},
   "outputs": [],
   "source": [
    "# use beautiful soup to parse the html from selenium driver \n",
    "def volly_scrape(soup):\n",
    "    teams = []\n",
    "    winnar = []\n",
    "    top2 = []\n",
    "  \n",
    "    t = soup.find_all(class_=\"KambiBC-outcomes-list__label\")\n",
    "    for i in range(len(t)):\n",
    "        teams.append(t[i].text)\n",
    "    \n",
    "    numbers = soup.find_all(class_=\"OutcomeButton__Odds-sc-lxwzc0-6\")\n",
    "    for i in range(len(numbers)):\n",
    "        if i < len(numbers)/2:\n",
    "            winnar.append(float(numbers[i].text))\n",
    "        else:\n",
    "            top2.append(float(numbers[i].text))\n",
    "    return(teams,  winnar, top2)"
   ]
  },
  {
   "cell_type": "code",
   "execution_count": 113,
   "id": "57cbc5cc",
   "metadata": {},
   "outputs": [
    {
     "name": "stdout",
     "output_type": "stream",
     "text": [
      "['Sir Safety Susa Perugia', 'Itas Trentino', 'Gas Sales Bluenergy Piacenza', 'Modena Volley', 'Cucine Lube Civitanova', 'Allianz Milano', 'Vero Volley Monza', 'WithU Verona', 'Top Volley Cisterna', 'Emma Villas Aubay Siena'] [1.25, 7.85, 10.0, 12.0, 14.0, 61.0, 61.0, 61.0, 501.0, 9001.0] [1.08, 2.3, 2.9, 4.0, 4.5, 13.0, 13.0, 13.0, 251.0, 6001.0]\n"
     ]
    }
   ],
   "source": [
    "volly_scrape(soup)"
   ]
  },
  {
   "cell_type": "code",
   "execution_count": 111,
   "id": "dda803ef",
   "metadata": {},
   "outputs": [
    {
     "data": {
      "text/plain": [
       "[<span class=\"KambiBC-outcomes-list__label\"><span>Sir Safety Susa Perugia</span></span>,\n",
       " <span class=\"KambiBC-outcomes-list__label\"><span>Itas Trentino</span></span>,\n",
       " <span class=\"KambiBC-outcomes-list__label\"><span>Gas Sales Bluenergy Piacenza</span></span>,\n",
       " <span class=\"KambiBC-outcomes-list__label\"><span>Modena Volley</span></span>,\n",
       " <span class=\"KambiBC-outcomes-list__label\"><span>Cucine Lube Civitanova</span></span>,\n",
       " <span class=\"KambiBC-outcomes-list__label\"><span>Allianz Milano</span></span>,\n",
       " <span class=\"KambiBC-outcomes-list__label\"><span>Vero Volley Monza</span></span>,\n",
       " <span class=\"KambiBC-outcomes-list__label\"><span>WithU Verona</span></span>,\n",
       " <span class=\"KambiBC-outcomes-list__label\"><span>Top Volley Cisterna</span></span>,\n",
       " <span class=\"KambiBC-outcomes-list__label\"><span>Emma Villas Aubay Siena</span></span>]"
      ]
     },
     "execution_count": 111,
     "metadata": {},
     "output_type": "execute_result"
    }
   ],
   "source": [
    "teams"
   ]
  },
  {
   "cell_type": "code",
   "execution_count": 102,
   "id": "6e2c3ef7",
   "metadata": {},
   "outputs": [],
   "source": [
    "teams = soup.find_all(class_=\"KambiBC-outcomes-list__label\")"
   ]
  },
  {
   "cell_type": "code",
   "execution_count": 104,
   "id": "c8533c6b",
   "metadata": {},
   "outputs": [
    {
     "data": {
      "text/plain": [
       "'Sir Safety Susa Perugia'"
      ]
     },
     "execution_count": 104,
     "metadata": {},
     "output_type": "execute_result"
    }
   ],
   "source": [
    "teams[0].text"
   ]
  },
  {
   "cell_type": "code",
   "execution_count": 105,
   "id": "eba7cfc2",
   "metadata": {},
   "outputs": [
    {
     "name": "stdout",
     "output_type": "stream",
     "text": [
      "Sir Safety Susa Perugia\n",
      "Itas Trentino\n",
      "Gas Sales Bluenergy Piacenza\n",
      "Modena Volley\n",
      "Cucine Lube Civitanova\n",
      "Allianz Milano\n",
      "Vero Volley Monza\n",
      "WithU Verona\n",
      "Top Volley Cisterna\n",
      "Emma Villas Aubay Siena\n"
     ]
    }
   ],
   "source": []
  },
  {
   "cell_type": "code",
   "execution_count": 115,
   "id": "7843a7af",
   "metadata": {},
   "outputs": [
    {
     "data": {
      "text/plain": [
       "'c:\\\\Users\\\\root\\\\Desktop\\\\notebook\\\\1-Freelancer work\\\\BetcityScrape'"
      ]
     },
     "execution_count": 115,
     "metadata": {},
     "output_type": "execute_result"
    }
   ],
   "source": [
    "%pwd"
   ]
  },
  {
   "cell_type": "code",
   "execution_count": 117,
   "id": "09030e8e",
   "metadata": {},
   "outputs": [],
   "source": [
    "import pickle"
   ]
  },
  {
   "cell_type": "code",
   "execution_count": 118,
   "id": "52b2a303",
   "metadata": {},
   "outputs": [],
   "source": [
    "# open pickle file\n",
    "with open('df_betcity_volly_test', 'rb') as f:\n",
    "    df = pickle.load(f)\n"
   ]
  },
  {
   "cell_type": "code",
   "execution_count": 119,
   "id": "97564e54",
   "metadata": {},
   "outputs": [
    {
     "data": {
      "text/html": [
       "<div>\n",
       "<style scoped>\n",
       "    .dataframe tbody tr th:only-of-type {\n",
       "        vertical-align: middle;\n",
       "    }\n",
       "\n",
       "    .dataframe tbody tr th {\n",
       "        vertical-align: top;\n",
       "    }\n",
       "\n",
       "    .dataframe thead th {\n",
       "        text-align: right;\n",
       "    }\n",
       "</style>\n",
       "<table border=\"1\" class=\"dataframe\">\n",
       "  <thead>\n",
       "    <tr style=\"text-align: right;\">\n",
       "      <th></th>\n",
       "      <th>Teams</th>\n",
       "      <th>Winnar</th>\n",
       "      <th>Top2</th>\n",
       "    </tr>\n",
       "  </thead>\n",
       "  <tbody>\n",
       "    <tr>\n",
       "      <th>0</th>\n",
       "      <td>[Sir Safety Conad Perugia, Itas Trentino, Jast...</td>\n",
       "      <td>[1.5, 6.75, 8.2, 10.0, 13.0, 26.0, 81.0, 101.0]</td>\n",
       "      <td>[1.3, 4.6, 2.15, 2.6, 8.25, 6.5, 16.0, 51.0]</td>\n",
       "    </tr>\n",
       "    <tr>\n",
       "      <th>0</th>\n",
       "      <td>[Tours VB, Chaumont, St Nazaire, Nantes Rezé M...</td>\n",
       "      <td>[1.65, 8.0, 8.0, 12.0, 12.0, 14.0, 17.0, 17.0,...</td>\n",
       "      <td>[1.33, 2.75, 2.75, 5.0, 5.0, 5.5, 6.5, 6.5, 26...</td>\n",
       "    </tr>\n",
       "    <tr>\n",
       "      <th>0</th>\n",
       "      <td>[Nantes Volley (D), Volero Le Cannet (D), Aspt...</td>\n",
       "      <td>[3.35, 5.25, 5.75, 6.75, 6.75, 10.0, 11.0, 31....</td>\n",
       "      <td>[1.8, 2.8, 3.1, 3.4, 3.4, 4.2, 4.5, 13.0, 18.0...</td>\n",
       "    </tr>\n",
       "    <tr>\n",
       "      <th>0</th>\n",
       "      <td>[Sir Safety Susa Perugia, Itas Trentino, Gas S...</td>\n",
       "      <td>[1.45, 3.9, 8.5, 18.0]</td>\n",
       "      <td>[1.18, 1.22, 4.25, 3.8]</td>\n",
       "    </tr>\n",
       "    <tr>\n",
       "      <th>0</th>\n",
       "      <td>[Imoco Volley Conegliano (D), Pallavolo Scandi...</td>\n",
       "      <td>[1.5, 5.0, 6.0, 7.5, 65.0, 71.0, 91.0, 151.0, ...</td>\n",
       "      <td>[1.18, 1.72, 2.25, 2.55, 23.0, 26.0, 31.0, 41....</td>\n",
       "    </tr>\n",
       "  </tbody>\n",
       "</table>\n",
       "</div>"
      ],
      "text/plain": [
       "                                               Teams  \\\n",
       "0  [Sir Safety Conad Perugia, Itas Trentino, Jast...   \n",
       "0  [Tours VB, Chaumont, St Nazaire, Nantes Rezé M...   \n",
       "0  [Nantes Volley (D), Volero Le Cannet (D), Aspt...   \n",
       "0  [Sir Safety Susa Perugia, Itas Trentino, Gas S...   \n",
       "0  [Imoco Volley Conegliano (D), Pallavolo Scandi...   \n",
       "\n",
       "                                              Winnar  \\\n",
       "0    [1.5, 6.75, 8.2, 10.0, 13.0, 26.0, 81.0, 101.0]   \n",
       "0  [1.65, 8.0, 8.0, 12.0, 12.0, 14.0, 17.0, 17.0,...   \n",
       "0  [3.35, 5.25, 5.75, 6.75, 6.75, 10.0, 11.0, 31....   \n",
       "0                             [1.45, 3.9, 8.5, 18.0]   \n",
       "0  [1.5, 5.0, 6.0, 7.5, 65.0, 71.0, 91.0, 151.0, ...   \n",
       "\n",
       "                                                Top2  \n",
       "0       [1.3, 4.6, 2.15, 2.6, 8.25, 6.5, 16.0, 51.0]  \n",
       "0  [1.33, 2.75, 2.75, 5.0, 5.0, 5.5, 6.5, 6.5, 26...  \n",
       "0  [1.8, 2.8, 3.1, 3.4, 3.4, 4.2, 4.5, 13.0, 18.0...  \n",
       "0                            [1.18, 1.22, 4.25, 3.8]  \n",
       "0  [1.18, 1.72, 2.25, 2.55, 23.0, 26.0, 31.0, 41....  "
      ]
     },
     "execution_count": 119,
     "metadata": {},
     "output_type": "execute_result"
    }
   ],
   "source": [
    "df.head()"
   ]
  },
  {
   "attachments": {},
   "cell_type": "markdown",
   "id": "0771245a",
   "metadata": {},
   "source": [
    "## LivesScoreBet"
   ]
  },
  {
   "cell_type": "code",
<<<<<<< HEAD
   "execution_count": 45,
=======
   "execution_count": 1,
>>>>>>> e6880d117a7f4c9055f25785a71dc06a0722c397
   "id": "601fb4fe",
   "metadata": {},
   "outputs": [
    {
     "ename": "WebDriverException",
     "evalue": "Message: unknown error: session deleted because of page crash\nfrom unknown error: cannot determine loading status\nfrom tab crashed\n  (Session info: chrome=110.0.5481.100)\nStacktrace:\n#0 0x563120f02b03 <unknown>\n#1 0x563120cd2dad <unknown>\n#2 0x563120cbee4c <unknown>\n#3 0x563120cbe2f1 <unknown>\n#4 0x563120cbd37b <unknown>\n#5 0x563120cbd1c4 <unknown>\n#6 0x563120cbbca2 <unknown>\n#7 0x563120cbc442 <unknown>\n#8 0x563120cc979f <unknown>\n#9 0x563120cca3f2 <unknown>\n#10 0x563120cda7d0 <unknown>\n#11 0x563120cdea70 <unknown>\n#12 0x563120cbc903 <unknown>\n#13 0x563120cda40c <unknown>\n#14 0x563120d4b2fa <unknown>\n#15 0x563120d32df3 <unknown>\n#16 0x563120d02900 <unknown>\n#17 0x563120d03af8 <unknown>\n#18 0x563120f570ce <unknown>\n#19 0x563120f5b090 <unknown>\n#20 0x563120f3b590 <unknown>\n#21 0x563120f5c31d <unknown>\n#22 0x563120f2c928 <unknown>\n#23 0x563120f813a8 <unknown>\n#24 0x563120f81536 <unknown>\n#25 0x563120f9b3f7 <unknown>\n#26 0x7f613a184609 start_thread\n",
     "output_type": "error",
     "traceback": [
      "\u001b[0;31m---------------------------------------------------------------------------\u001b[0m",
      "\u001b[0;31mWebDriverException\u001b[0m                        Traceback (most recent call last)",
      "Cell \u001b[0;32mIn[1], line 49\u001b[0m\n\u001b[1;32m     46\u001b[0m \u001b[39m#driver.get(\"https://www.livescorebet.com/\") #ok\u001b[39;00m\n\u001b[1;32m     48\u001b[0m url \u001b[39m=\u001b[39m \u001b[39m'\u001b[39m\u001b[39mhttps://www.livescorebet.com/nl-nl/sports/volleybal/SBTC1_19\u001b[39m\u001b[39m'\u001b[39m\n\u001b[0;32m---> 49\u001b[0m driver\u001b[39m.\u001b[39;49mget(url)\n\u001b[1;32m     50\u001b[0m \u001b[39mprint\u001b[39m(driver\u001b[39m.\u001b[39mtitle)\n\u001b[1;32m     51\u001b[0m sleep(\u001b[39m5000\u001b[39m)\n",
      "File \u001b[0;32m~/.local/lib/python3.10/site-packages/selenium/webdriver/remote/webdriver.py:449\u001b[0m, in \u001b[0;36mWebDriver.get\u001b[0;34m(self, url)\u001b[0m\n\u001b[1;32m    447\u001b[0m \u001b[39mdef\u001b[39;00m \u001b[39mget\u001b[39m(\u001b[39mself\u001b[39m, url: \u001b[39mstr\u001b[39m) \u001b[39m-\u001b[39m\u001b[39m>\u001b[39m \u001b[39mNone\u001b[39;00m:\n\u001b[1;32m    448\u001b[0m \u001b[39m    \u001b[39m\u001b[39m\"\"\"Loads a web page in the current browser session.\"\"\"\u001b[39;00m\n\u001b[0;32m--> 449\u001b[0m     \u001b[39mself\u001b[39;49m\u001b[39m.\u001b[39;49mexecute(Command\u001b[39m.\u001b[39;49mGET, {\u001b[39m\"\u001b[39;49m\u001b[39murl\u001b[39;49m\u001b[39m\"\u001b[39;49m: url})\n",
      "File \u001b[0;32m~/.local/lib/python3.10/site-packages/selenium/webdriver/remote/webdriver.py:440\u001b[0m, in \u001b[0;36mWebDriver.execute\u001b[0;34m(self, driver_command, params)\u001b[0m\n\u001b[1;32m    438\u001b[0m response \u001b[39m=\u001b[39m \u001b[39mself\u001b[39m\u001b[39m.\u001b[39mcommand_executor\u001b[39m.\u001b[39mexecute(driver_command, params)\n\u001b[1;32m    439\u001b[0m \u001b[39mif\u001b[39;00m response:\n\u001b[0;32m--> 440\u001b[0m     \u001b[39mself\u001b[39;49m\u001b[39m.\u001b[39;49merror_handler\u001b[39m.\u001b[39;49mcheck_response(response)\n\u001b[1;32m    441\u001b[0m     response[\u001b[39m\"\u001b[39m\u001b[39mvalue\u001b[39m\u001b[39m\"\u001b[39m] \u001b[39m=\u001b[39m \u001b[39mself\u001b[39m\u001b[39m.\u001b[39m_unwrap_value(response\u001b[39m.\u001b[39mget(\u001b[39m\"\u001b[39m\u001b[39mvalue\u001b[39m\u001b[39m\"\u001b[39m, \u001b[39mNone\u001b[39;00m))\n\u001b[1;32m    442\u001b[0m     \u001b[39mreturn\u001b[39;00m response\n",
      "File \u001b[0;32m~/.local/lib/python3.10/site-packages/selenium/webdriver/remote/errorhandler.py:245\u001b[0m, in \u001b[0;36mErrorHandler.check_response\u001b[0;34m(self, response)\u001b[0m\n\u001b[1;32m    243\u001b[0m         alert_text \u001b[39m=\u001b[39m value[\u001b[39m\"\u001b[39m\u001b[39malert\u001b[39m\u001b[39m\"\u001b[39m]\u001b[39m.\u001b[39mget(\u001b[39m\"\u001b[39m\u001b[39mtext\u001b[39m\u001b[39m\"\u001b[39m)\n\u001b[1;32m    244\u001b[0m     \u001b[39mraise\u001b[39;00m exception_class(message, screen, stacktrace, alert_text)  \u001b[39m# type: ignore[call-arg]  # mypy is not smart enough here\u001b[39;00m\n\u001b[0;32m--> 245\u001b[0m \u001b[39mraise\u001b[39;00m exception_class(message, screen, stacktrace)\n",
      "\u001b[0;31mWebDriverException\u001b[0m: Message: unknown error: session deleted because of page crash\nfrom unknown error: cannot determine loading status\nfrom tab crashed\n  (Session info: chrome=110.0.5481.100)\nStacktrace:\n#0 0x563120f02b03 <unknown>\n#1 0x563120cd2dad <unknown>\n#2 0x563120cbee4c <unknown>\n#3 0x563120cbe2f1 <unknown>\n#4 0x563120cbd37b <unknown>\n#5 0x563120cbd1c4 <unknown>\n#6 0x563120cbbca2 <unknown>\n#7 0x563120cbc442 <unknown>\n#8 0x563120cc979f <unknown>\n#9 0x563120cca3f2 <unknown>\n#10 0x563120cda7d0 <unknown>\n#11 0x563120cdea70 <unknown>\n#12 0x563120cbc903 <unknown>\n#13 0x563120cda40c <unknown>\n#14 0x563120d4b2fa <unknown>\n#15 0x563120d32df3 <unknown>\n#16 0x563120d02900 <unknown>\n#17 0x563120d03af8 <unknown>\n#18 0x563120f570ce <unknown>\n#19 0x563120f5b090 <unknown>\n#20 0x563120f3b590 <unknown>\n#21 0x563120f5c31d <unknown>\n#22 0x563120f2c928 <unknown>\n#23 0x563120f813a8 <unknown>\n#24 0x563120f81536 <unknown>\n#25 0x563120f9b3f7 <unknown>\n#26 0x7f613a184609 start_thread\n"
     ]
    }
   ],
   "source": [
    "from selenium import webdriver\n",
    "from selenium.webdriver.common.by import By\n",
    "from selenium.webdriver.support.ui import WebDriverWait\n",
    "from selenium.webdriver.support import expected_conditions as EC\n",
    "from webdriver_manager.chrome import ChromeDriverManager\n",
    "\n",
    "from selenium.webdriver.chrome.options import Options\n",
    "from selenium.webdriver.chrome.service import Service\n",
    "import chromedriver_autoinstaller\n",
    "\n",
    "import requests  # 2\n",
    "import json  # 3\n",
    "\n",
    "from pyvirtualdisplay import Display\n",
    "display = Display(visible=0, size=(800, 800))\n",
    "display.start()\n",
    "\n",
    "# Check if the current version of chromedriver exists\n",
    "chromedriver_autoinstaller.install()\n",
    "# and if it doesn't exist, download it automatically,\n",
    "# then add chromedriver to path\n",
    "\n",
    "chrome_options = webdriver.ChromeOptions()\n",
    "# Add your options as needed\n",
    "options = [\n",
    "    # Define window size here\n",
    "    \"--window-size=1200,1200\",\n",
    "    \"--ignore-certificate-errors\"\n",
    "\n",
    "    # \"--headless\",\n",
    "    # \"--disable-gpu\",\n",
    "    # \"--window-size=1920,1200\",\n",
    "    # \"--ignore-certificate-errors\",\n",
    "    # \"--disable-extensions\",\n",
    "    # \"--no-sandbox\",\n",
    "    # \"--disable-dev-shm-usage\",\n",
    "    # '--remote-debugging-port=9222'\n",
    "]\n",
    "\n",
    "for option in options:\n",
    "    chrome_options.add_argument(option)\n",
    "\n",
    "\n",
    "driver = webdriver.Chrome(options=chrome_options)\n",
    "\n",
    "#driver.get(\"https://www.livescorebet.com/\") #ok\n",
    "\n",
    "url = 'https://www.livescorebet.com/nl-nl/sports/volleybal/SBTC1_19'\n",
    "driver.get(url)\n",
    "print(driver.title)\n",
    "sleep(5000)"
   ]
  },
  {
   "cell_type": "code",
   "execution_count": null,
   "id": "607ea193",
   "metadata": {},
   "outputs": [],
   "source": []
  },
  {
   "cell_type": "code",
   "execution_count": 2,
   "id": "6c0359a2",
   "metadata": {},
   "outputs": [
    {
     "name": "stderr",
     "output_type": "stream",
     "text": [
      "C:\\Users\\root\\AppData\\Local\\Temp\\ipykernel_1196\\2298804098.py:15: DeprecationWarning: executable_path has been deprecated, please pass in a Service object\n",
      "  driver = webdriver.Chrome(executable_path=executable_path)\n"
     ]
    }
   ],
   "source": [
    "from selenium import webdriver\n",
    "from selenium.webdriver.common.by import By\n",
    "from selenium.webdriver.common.keys import Keys\n",
    "from bs4 import BeautifulSoup\n",
    "import time\n",
    "from time import sleep\n",
    "from random import randint\n",
    "import pandas as pd\n",
    "\n",
    "executable_path = \"C:\\webdriver\\chromedriver.exe\"\n",
    "\n",
    "url = \"https://www.livescorebet.com/nl-nl/sports/volleybal/SBTC1_19\"\n",
    "\n",
    "try:\n",
    "    driver = webdriver.Chrome(executable_path=executable_path)\n",
    "except:\n",
    "    driver = webdriver.Chrome()\n",
    "    \n",
    "driver.get(url)\n",
    "\n",
    "soup = BeautifulSoup(driver.page_source, 'html.parser')"
   ]
  },
  {
   "cell_type": "markdown",
   "id": "41d56e1f",
   "metadata": {},
   "source": [
    "### this is test"
   ]
  },
  {
   "cell_type": "code",
   "execution_count": 1,
   "id": "5ad1b447",
   "metadata": {},
   "outputs": [],
   "source": [
    "import pandas as pd"
   ]
  },
  {
   "cell_type": "code",
   "execution_count": 37,
   "id": "6bd17dcf",
   "metadata": {},
   "outputs": [],
   "source": [
    "df= pd.read_csv('test (1).csv')"
   ]
  },
  {
   "cell_type": "code",
   "execution_count": 38,
   "id": "352f9c6b",
   "metadata": {},
   "outputs": [
    {
     "data": {
      "text/html": [
       "<div>\n",
       "<style scoped>\n",
       "    .dataframe tbody tr th:only-of-type {\n",
       "        vertical-align: middle;\n",
       "    }\n",
       "\n",
       "    .dataframe tbody tr th {\n",
       "        vertical-align: top;\n",
       "    }\n",
       "\n",
       "    .dataframe thead th {\n",
       "        text-align: right;\n",
       "    }\n",
       "</style>\n",
       "<table border=\"1\" class=\"dataframe\">\n",
       "  <thead>\n",
       "    <tr style=\"text-align: right;\">\n",
       "      <th></th>\n",
       "      <th>Unnamed: 0</th>\n",
       "      <th>Div</th>\n",
       "      <th>HomeTeam</th>\n",
       "      <th>AwayTeam</th>\n",
       "      <th>B365H</th>\n",
       "      <th>B365D</th>\n",
       "      <th>B365A</th>\n",
       "      <th>pro_D</th>\n",
       "      <th>pro_H</th>\n",
       "      <th>pro_A</th>\n",
       "      <th>pred</th>\n",
       "      <th>FTR</th>\n",
       "      <th>outcome</th>\n",
       "      <th>price</th>\n",
       "    </tr>\n",
       "  </thead>\n",
       "  <tbody>\n",
       "    <tr>\n",
       "      <th>0</th>\n",
       "      <td>0</td>\n",
       "      <td>SC3</td>\n",
       "      <td>Bonnyrigg Rose</td>\n",
       "      <td>Annan Athletic</td>\n",
       "      <td>3.00</td>\n",
       "      <td>3.5</td>\n",
       "      <td>2.10</td>\n",
       "      <td>0.041</td>\n",
       "      <td>0.764</td>\n",
       "      <td>0.195</td>\n",
       "      <td>H</td>\n",
       "      <td>A</td>\n",
       "      <td>lost</td>\n",
       "      <td>2.10</td>\n",
       "    </tr>\n",
       "    <tr>\n",
       "      <th>1</th>\n",
       "      <td>1</td>\n",
       "      <td>SC3</td>\n",
       "      <td>East Fife</td>\n",
       "      <td>Stirling</td>\n",
       "      <td>3.60</td>\n",
       "      <td>3.6</td>\n",
       "      <td>1.85</td>\n",
       "      <td>1.000</td>\n",
       "      <td>0.000</td>\n",
       "      <td>0.000</td>\n",
       "      <td>D</td>\n",
       "      <td>D</td>\n",
       "      <td>won</td>\n",
       "      <td>3.60</td>\n",
       "    </tr>\n",
       "    <tr>\n",
       "      <th>2</th>\n",
       "      <td>2</td>\n",
       "      <td>SC3</td>\n",
       "      <td>Elgin</td>\n",
       "      <td>Albion Rvs</td>\n",
       "      <td>2.20</td>\n",
       "      <td>3.4</td>\n",
       "      <td>2.90</td>\n",
       "      <td>1.000</td>\n",
       "      <td>0.000</td>\n",
       "      <td>0.000</td>\n",
       "      <td>D</td>\n",
       "      <td>D</td>\n",
       "      <td>won</td>\n",
       "      <td>3.40</td>\n",
       "    </tr>\n",
       "    <tr>\n",
       "      <th>3</th>\n",
       "      <td>3</td>\n",
       "      <td>SC3</td>\n",
       "      <td>Forfar</td>\n",
       "      <td>Stranraer</td>\n",
       "      <td>1.73</td>\n",
       "      <td>3.6</td>\n",
       "      <td>3.75</td>\n",
       "      <td>0.000</td>\n",
       "      <td>1.000</td>\n",
       "      <td>0.000</td>\n",
       "      <td>H</td>\n",
       "      <td>H</td>\n",
       "      <td>won</td>\n",
       "      <td>1.73</td>\n",
       "    </tr>\n",
       "    <tr>\n",
       "      <th>4</th>\n",
       "      <td>4</td>\n",
       "      <td>SC3</td>\n",
       "      <td>Stenhousemuir</td>\n",
       "      <td>Dumbarton</td>\n",
       "      <td>2.75</td>\n",
       "      <td>3.2</td>\n",
       "      <td>2.40</td>\n",
       "      <td>0.001</td>\n",
       "      <td>0.000</td>\n",
       "      <td>0.999</td>\n",
       "      <td>A</td>\n",
       "      <td>D</td>\n",
       "      <td>lost</td>\n",
       "      <td>3.20</td>\n",
       "    </tr>\n",
       "  </tbody>\n",
       "</table>\n",
       "</div>"
      ],
      "text/plain": [
       "   Unnamed: 0  Div        HomeTeam        AwayTeam  B365H  B365D  B365A  \\\n",
       "0           0  SC3  Bonnyrigg Rose  Annan Athletic   3.00    3.5   2.10   \n",
       "1           1  SC3       East Fife        Stirling   3.60    3.6   1.85   \n",
       "2           2  SC3           Elgin      Albion Rvs   2.20    3.4   2.90   \n",
       "3           3  SC3          Forfar       Stranraer   1.73    3.6   3.75   \n",
       "4           4  SC3   Stenhousemuir       Dumbarton   2.75    3.2   2.40   \n",
       "\n",
       "   pro_D  pro_H  pro_A pred FTR outcome  price  \n",
       "0  0.041  0.764  0.195    H   A    lost   2.10  \n",
       "1  1.000  0.000  0.000    D   D     won   3.60  \n",
       "2  1.000  0.000  0.000    D   D     won   3.40  \n",
       "3  0.000  1.000  0.000    H   H     won   1.73  \n",
       "4  0.001  0.000  0.999    A   D    lost   3.20  "
      ]
     },
     "execution_count": 38,
     "metadata": {},
     "output_type": "execute_result"
    }
   ],
   "source": [
    "df.head()"
   ]
  },
  {
   "cell_type": "code",
   "execution_count": 39,
   "id": "4902b629",
   "metadata": {},
   "outputs": [],
   "source": [
    "def settle_total_bet(df, bet_amount):\n",
    "    outcome = df['outcome']\n",
    "    price = df['price']\n",
    "    if outcome == \"won\":\n",
    "        return bet_amount * (price - 1)\n",
    "    else:\n",
    "        return bet_amount * -1\n"
   ]
  },
  {
   "cell_type": "code",
   "execution_count": 40,
   "id": "ebc9e67b",
   "metadata": {},
   "outputs": [],
   "source": [
    "df['p/l'] = df.apply(settle_total_bet, axis=1, args=(1,))"
   ]
  },
  {
   "cell_type": "code",
   "execution_count": 41,
   "id": "2a5b412a",
   "metadata": {},
   "outputs": [
    {
     "data": {
      "text/html": [
       "<div>\n",
       "<style scoped>\n",
       "    .dataframe tbody tr th:only-of-type {\n",
       "        vertical-align: middle;\n",
       "    }\n",
       "\n",
       "    .dataframe tbody tr th {\n",
       "        vertical-align: top;\n",
       "    }\n",
       "\n",
       "    .dataframe thead th {\n",
       "        text-align: right;\n",
       "    }\n",
       "</style>\n",
       "<table border=\"1\" class=\"dataframe\">\n",
       "  <thead>\n",
       "    <tr style=\"text-align: right;\">\n",
       "      <th></th>\n",
       "      <th>Unnamed: 0</th>\n",
       "      <th>Div</th>\n",
       "      <th>HomeTeam</th>\n",
       "      <th>AwayTeam</th>\n",
       "      <th>B365H</th>\n",
       "      <th>B365D</th>\n",
       "      <th>B365A</th>\n",
       "      <th>pro_D</th>\n",
       "      <th>pro_H</th>\n",
       "      <th>pro_A</th>\n",
       "      <th>pred</th>\n",
       "      <th>FTR</th>\n",
       "      <th>outcome</th>\n",
       "      <th>price</th>\n",
       "      <th>p/l</th>\n",
       "    </tr>\n",
       "  </thead>\n",
       "  <tbody>\n",
       "    <tr>\n",
       "      <th>0</th>\n",
       "      <td>0</td>\n",
       "      <td>SC3</td>\n",
       "      <td>Bonnyrigg Rose</td>\n",
       "      <td>Annan Athletic</td>\n",
       "      <td>3.00</td>\n",
       "      <td>3.5</td>\n",
       "      <td>2.10</td>\n",
       "      <td>0.041</td>\n",
       "      <td>0.764</td>\n",
       "      <td>0.195</td>\n",
       "      <td>H</td>\n",
       "      <td>A</td>\n",
       "      <td>lost</td>\n",
       "      <td>2.10</td>\n",
       "      <td>-1.00</td>\n",
       "    </tr>\n",
       "    <tr>\n",
       "      <th>1</th>\n",
       "      <td>1</td>\n",
       "      <td>SC3</td>\n",
       "      <td>East Fife</td>\n",
       "      <td>Stirling</td>\n",
       "      <td>3.60</td>\n",
       "      <td>3.6</td>\n",
       "      <td>1.85</td>\n",
       "      <td>1.000</td>\n",
       "      <td>0.000</td>\n",
       "      <td>0.000</td>\n",
       "      <td>D</td>\n",
       "      <td>D</td>\n",
       "      <td>won</td>\n",
       "      <td>3.60</td>\n",
       "      <td>2.60</td>\n",
       "    </tr>\n",
       "    <tr>\n",
       "      <th>2</th>\n",
       "      <td>2</td>\n",
       "      <td>SC3</td>\n",
       "      <td>Elgin</td>\n",
       "      <td>Albion Rvs</td>\n",
       "      <td>2.20</td>\n",
       "      <td>3.4</td>\n",
       "      <td>2.90</td>\n",
       "      <td>1.000</td>\n",
       "      <td>0.000</td>\n",
       "      <td>0.000</td>\n",
       "      <td>D</td>\n",
       "      <td>D</td>\n",
       "      <td>won</td>\n",
       "      <td>3.40</td>\n",
       "      <td>2.40</td>\n",
       "    </tr>\n",
       "    <tr>\n",
       "      <th>3</th>\n",
       "      <td>3</td>\n",
       "      <td>SC3</td>\n",
       "      <td>Forfar</td>\n",
       "      <td>Stranraer</td>\n",
       "      <td>1.73</td>\n",
       "      <td>3.6</td>\n",
       "      <td>3.75</td>\n",
       "      <td>0.000</td>\n",
       "      <td>1.000</td>\n",
       "      <td>0.000</td>\n",
       "      <td>H</td>\n",
       "      <td>H</td>\n",
       "      <td>won</td>\n",
       "      <td>1.73</td>\n",
       "      <td>0.73</td>\n",
       "    </tr>\n",
       "    <tr>\n",
       "      <th>4</th>\n",
       "      <td>4</td>\n",
       "      <td>SC3</td>\n",
       "      <td>Stenhousemuir</td>\n",
       "      <td>Dumbarton</td>\n",
       "      <td>2.75</td>\n",
       "      <td>3.2</td>\n",
       "      <td>2.40</td>\n",
       "      <td>0.001</td>\n",
       "      <td>0.000</td>\n",
       "      <td>0.999</td>\n",
       "      <td>A</td>\n",
       "      <td>D</td>\n",
       "      <td>lost</td>\n",
       "      <td>3.20</td>\n",
       "      <td>-1.00</td>\n",
       "    </tr>\n",
       "  </tbody>\n",
       "</table>\n",
       "</div>"
      ],
      "text/plain": [
       "   Unnamed: 0  Div        HomeTeam        AwayTeam  B365H  B365D  B365A  \\\n",
       "0           0  SC3  Bonnyrigg Rose  Annan Athletic   3.00    3.5   2.10   \n",
       "1           1  SC3       East Fife        Stirling   3.60    3.6   1.85   \n",
       "2           2  SC3           Elgin      Albion Rvs   2.20    3.4   2.90   \n",
       "3           3  SC3          Forfar       Stranraer   1.73    3.6   3.75   \n",
       "4           4  SC3   Stenhousemuir       Dumbarton   2.75    3.2   2.40   \n",
       "\n",
       "   pro_D  pro_H  pro_A pred FTR outcome  price   p/l  \n",
       "0  0.041  0.764  0.195    H   A    lost   2.10 -1.00  \n",
       "1  1.000  0.000  0.000    D   D     won   3.60  2.60  \n",
       "2  1.000  0.000  0.000    D   D     won   3.40  2.40  \n",
       "3  0.000  1.000  0.000    H   H     won   1.73  0.73  \n",
       "4  0.001  0.000  0.999    A   D    lost   3.20 -1.00  "
      ]
     },
     "execution_count": 41,
     "metadata": {},
     "output_type": "execute_result"
    }
   ],
   "source": [
    "df.head()"
   ]
  },
  {
   "cell_type": "code",
   "execution_count": 25,
   "id": "27b76425",
   "metadata": {},
   "outputs": [
    {
     "name": "stderr",
     "output_type": "stream",
     "text": [
      "C:\\Users\\root\\AppData\\Local\\Temp\\ipykernel_11892\\1753186389.py:1: FutureWarning: The default value of numeric_only in DataFrameGroupBy.sum is deprecated. In a future version, numeric_only will default to False. Either specify numeric_only or select only columns which should be valid for the function.\n",
      "  df.groupby(['HomeTeam']).sum()['p/l']\n"
     ]
    },
    {
     "data": {
      "text/plain": [
       "HomeTeam\n",
       "Albion Rvs        2.30\n",
       "Bonnyrigg Rose   -2.00\n",
       "Dumbarton         1.20\n",
       "East Fife         2.60\n",
       "Elgin             2.40\n",
       "Forfar            3.73\n",
       "Stenhousemuir    -1.00\n",
       "Stranraer        -1.00\n",
       "Name: p/l, dtype: float64"
      ]
     },
     "execution_count": 25,
     "metadata": {},
     "output_type": "execute_result"
    }
   ],
   "source": [
    "df.groupby(['HomeTeam']).sum()['p/l']"
   ]
  },
  {
   "cell_type": "code",
   "execution_count": 42,
   "id": "aab178e0",
   "metadata": {},
   "outputs": [],
   "source": [
    "# cummulative sum for 4 periods\n",
    "df['cummulative4'] = df['p/l'].rolling(4).sum()\n",
    "df['cummulative'] = df['p/l'].cumsum()"
   ]
  },
  {
   "cell_type": "code",
   "execution_count": 43,
   "id": "703b0fa7",
   "metadata": {},
   "outputs": [
    {
     "data": {
      "text/html": [
       "<div>\n",
       "<style scoped>\n",
       "    .dataframe tbody tr th:only-of-type {\n",
       "        vertical-align: middle;\n",
       "    }\n",
       "\n",
       "    .dataframe tbody tr th {\n",
       "        vertical-align: top;\n",
       "    }\n",
       "\n",
       "    .dataframe thead th {\n",
       "        text-align: right;\n",
       "    }\n",
       "</style>\n",
       "<table border=\"1\" class=\"dataframe\">\n",
       "  <thead>\n",
       "    <tr style=\"text-align: right;\">\n",
       "      <th></th>\n",
       "      <th>Unnamed: 0</th>\n",
       "      <th>Div</th>\n",
       "      <th>HomeTeam</th>\n",
       "      <th>AwayTeam</th>\n",
       "      <th>B365H</th>\n",
       "      <th>B365D</th>\n",
       "      <th>B365A</th>\n",
       "      <th>pro_D</th>\n",
       "      <th>pro_H</th>\n",
       "      <th>pro_A</th>\n",
       "      <th>pred</th>\n",
       "      <th>FTR</th>\n",
       "      <th>outcome</th>\n",
       "      <th>price</th>\n",
       "      <th>p/l</th>\n",
       "      <th>cummulative4</th>\n",
       "      <th>cummulative</th>\n",
       "    </tr>\n",
       "  </thead>\n",
       "  <tbody>\n",
       "    <tr>\n",
       "      <th>5</th>\n",
       "      <td>5</td>\n",
       "      <td>SC3</td>\n",
       "      <td>Albion Rvs</td>\n",
       "      <td>East Fife</td>\n",
       "      <td>2.00</td>\n",
       "      <td>3.50</td>\n",
       "      <td>3.30</td>\n",
       "      <td>0.000</td>\n",
       "      <td>0.000</td>\n",
       "      <td>1.000</td>\n",
       "      <td>A</td>\n",
       "      <td>A</td>\n",
       "      <td>won</td>\n",
       "      <td>3.3</td>\n",
       "      <td>2.3</td>\n",
       "      <td>4.43</td>\n",
       "      <td>6.03</td>\n",
       "    </tr>\n",
       "    <tr>\n",
       "      <th>6</th>\n",
       "      <td>6</td>\n",
       "      <td>SC3</td>\n",
       "      <td>Dumbarton</td>\n",
       "      <td>Annan Athletic</td>\n",
       "      <td>2.20</td>\n",
       "      <td>3.40</td>\n",
       "      <td>2.88</td>\n",
       "      <td>0.000</td>\n",
       "      <td>1.000</td>\n",
       "      <td>0.000</td>\n",
       "      <td>H</td>\n",
       "      <td>H</td>\n",
       "      <td>won</td>\n",
       "      <td>2.2</td>\n",
       "      <td>1.2</td>\n",
       "      <td>3.23</td>\n",
       "      <td>7.23</td>\n",
       "    </tr>\n",
       "    <tr>\n",
       "      <th>7</th>\n",
       "      <td>7</td>\n",
       "      <td>SC3</td>\n",
       "      <td>Forfar</td>\n",
       "      <td>Stenhousemuir</td>\n",
       "      <td>1.95</td>\n",
       "      <td>4.00</td>\n",
       "      <td>3.40</td>\n",
       "      <td>1.000</td>\n",
       "      <td>0.000</td>\n",
       "      <td>0.000</td>\n",
       "      <td>D</td>\n",
       "      <td>D</td>\n",
       "      <td>won</td>\n",
       "      <td>4.0</td>\n",
       "      <td>3.0</td>\n",
       "      <td>5.50</td>\n",
       "      <td>10.23</td>\n",
       "    </tr>\n",
       "    <tr>\n",
       "      <th>8</th>\n",
       "      <td>8</td>\n",
       "      <td>SC3</td>\n",
       "      <td>Stranraer</td>\n",
       "      <td>Bonnyrigg Rose</td>\n",
       "      <td>1.91</td>\n",
       "      <td>3.75</td>\n",
       "      <td>3.20</td>\n",
       "      <td>1.000</td>\n",
       "      <td>0.000</td>\n",
       "      <td>0.000</td>\n",
       "      <td>D</td>\n",
       "      <td>A</td>\n",
       "      <td>lost</td>\n",
       "      <td>3.2</td>\n",
       "      <td>-1.0</td>\n",
       "      <td>5.50</td>\n",
       "      <td>9.23</td>\n",
       "    </tr>\n",
       "    <tr>\n",
       "      <th>9</th>\n",
       "      <td>9</td>\n",
       "      <td>SC3</td>\n",
       "      <td>Bonnyrigg Rose</td>\n",
       "      <td>Stirling</td>\n",
       "      <td>4.20</td>\n",
       "      <td>3.75</td>\n",
       "      <td>1.70</td>\n",
       "      <td>0.001</td>\n",
       "      <td>0.968</td>\n",
       "      <td>0.031</td>\n",
       "      <td>H</td>\n",
       "      <td>A</td>\n",
       "      <td>lost</td>\n",
       "      <td>1.7</td>\n",
       "      <td>-1.0</td>\n",
       "      <td>2.20</td>\n",
       "      <td>8.23</td>\n",
       "    </tr>\n",
       "  </tbody>\n",
       "</table>\n",
       "</div>"
      ],
      "text/plain": [
       "   Unnamed: 0  Div        HomeTeam        AwayTeam  B365H  B365D  B365A  \\\n",
       "5           5  SC3      Albion Rvs       East Fife   2.00   3.50   3.30   \n",
       "6           6  SC3       Dumbarton  Annan Athletic   2.20   3.40   2.88   \n",
       "7           7  SC3          Forfar   Stenhousemuir   1.95   4.00   3.40   \n",
       "8           8  SC3       Stranraer  Bonnyrigg Rose   1.91   3.75   3.20   \n",
       "9           9  SC3  Bonnyrigg Rose        Stirling   4.20   3.75   1.70   \n",
       "\n",
       "   pro_D  pro_H  pro_A pred FTR outcome  price  p/l  cummulative4  cummulative  \n",
       "5  0.000  0.000  1.000    A   A     won    3.3  2.3          4.43         6.03  \n",
       "6  0.000  1.000  0.000    H   H     won    2.2  1.2          3.23         7.23  \n",
       "7  1.000  0.000  0.000    D   D     won    4.0  3.0          5.50        10.23  \n",
       "8  1.000  0.000  0.000    D   A    lost    3.2 -1.0          5.50         9.23  \n",
       "9  0.001  0.968  0.031    H   A    lost    1.7 -1.0          2.20         8.23  "
      ]
     },
     "execution_count": 43,
     "metadata": {},
     "output_type": "execute_result"
    }
   ],
   "source": [
    "df.tail()"
   ]
  },
  {
   "cell_type": "code",
   "execution_count": null,
   "id": "76d15d76",
   "metadata": {},
   "outputs": [],
   "source": []
  },
  {
   "cell_type": "markdown",
   "id": "f64bed7f",
   "metadata": {},
   "source": []
  },
  {
   "attachments": {},
   "cell_type": "markdown",
   "id": "ac62b888",
   "metadata": {},
   "source": [
    "## This list of links"
   ]
  },
  {
   "cell_type": "code",
   "execution_count": 4,
   "id": "e9e52f26",
   "metadata": {},
   "outputs": [],
   "source": [
    "soup = BeautifulSoup(driver.page_source, 'html.parser')"
   ]
  },
  {
   "cell_type": "code",
   "execution_count": null,
   "id": "55a9661c",
   "metadata": {},
   "outputs": [],
   "source": [
    "# get href from all links\n",
    "links = soup.find_all('a')\n",
    "\n",
    "# get href from all links\n",
    "links = soup.find_all('a')\n",
    "\n",
    "# get href from all links\n",
    "\n"
   ]
  },
  {
   "cell_type": "code",
   "execution_count": null,
   "id": "04b9729b",
   "metadata": {},
   "outputs": [],
   "source": []
  },
  {
   "cell_type": "code",
   "execution_count": null,
   "id": "3c5c788f",
   "metadata": {},
   "outputs": [],
   "source": []
  },
  {
   "cell_type": "code",
   "execution_count": null,
   "id": "5b6c335b",
   "metadata": {},
   "outputs": [],
   "source": [
    "def volly_scrape(soup):\n",
    "    teams = []\n",
    "    winnar = []\n",
    "    top2 = []\n",
    "  \n",
    "    t = soup.find_all(class_=\"KambiBC-outcomes-list__label\")\n",
    "    for i in range(len(t)):\n",
    "        teams.append(t[i].text)\n",
    "    \n",
    "    numbers = soup.find_all(class_=\"OutcomeButton__Odds-sc-lxwzc0-6\")\n",
    "    for i in range(len(numbers)):\n",
    "        if i < len(numbers)/2:\n",
    "            winnar.append(float(numbers[i].text))\n",
    "        else:\n",
    "            top2.append(float(numbers[i].text))\n",
    "    return(teams,  winnar, top2)"
   ]
  },
  {
   "cell_type": "code",
   "execution_count": 9,
   "id": "13ca9f8e",
   "metadata": {},
   "outputs": [],
   "source": [
    "base_url = \"https://www.livescorebet.com\""
   ]
  },
  {
   "cell_type": "code",
   "execution_count": 7,
   "id": "d02e4c50",
   "metadata": {},
   "outputs": [],
   "source": [
    "links = soup.find_all(class_=\"sc-1dob51z-0 kTvekW sc-10e4yro-1 esgLjE\")"
   ]
  },
  {
   "cell_type": "code",
   "execution_count": 8,
   "id": "bf95dce5",
   "metadata": {},
   "outputs": [
    {
     "name": "stdout",
     "output_type": "stream",
     "text": [
      "/nl-nl/sports/volleybal/argentini-serie-a1-vrouwen/SBTC3_68995\n",
      "/nl-nl/sports/volleybal/brazili-superliga/SBTC3_29090\n",
      "/nl-nl/sports/volleybal/duitsland-bundesliga/SBTC3_69364\n",
      "/nl-nl/sports/volleybal/duitsland-bundesliga-vrouwen/SBTC3_82733\n",
      "/nl-nl/sports/volleybal/duitsland-2e-bundesliga-vrouwen/SBTC3_30536\n",
      "/nl-nl/sports/volleybal/finland-mestaruusliiga-vrouwen/SBTC3_82259\n",
      "/nl-nl/sports/volleybal/frankrijk-pro-a/SBTC3_82527\n",
      "/nl-nl/sports/volleybal/frankrijk-pro-a-vrouwen/SBTC3_82638\n",
      "/nl-nl/sports/volleybal/frankrijk-pro-b/SBTC3_37986\n",
      "/nl-nl/sports/volleybal/griekenland-a1/SBTC3_82736\n",
      "/nl-nl/sports/volleybal/indonesi-proliga/SBTC3_88183\n",
      "/nl-nl/sports/volleybal/itali-campeonato-a1/SBTC3_24876\n",
      "/nl-nl/sports/volleybal/itali-a1-vrouwen/SBTC3_69561\n",
      "/nl-nl/sports/volleybal/itali-campeonato-a2/SBTC3_81369\n",
      "/nl-nl/sports/volleybal/itali-a2-vrouwen/SBTC3_82307\n",
      "/nl-nl/sports/volleybal/japan-v-league/SBTC3_82731\n",
      "/nl-nl/sports/volleybal/japan-v-league-vrouwen/SBTC3_27718\n",
      "/nl-nl/sports/volleybal/oostenrijk-1-bundesliga/SBTC3_27604\n",
      "/nl-nl/sports/volleybal/oostenrijk-1-bundesliga-vrouwen/SBTC3_79599\n",
      "/nl-nl/sports/volleybal/polen-pls/SBTC3_44715\n",
      "/nl-nl/sports/volleybal/polen-orlen-liga-vrouwen/SBTC3_44714\n",
      "/nl-nl/sports/volleybal/portugal-a1-masculino/SBTC3_83629\n",
      "/nl-nl/sports/volleybal/portugal-a1-vrouwen/SBTC3_93576\n",
      "/nl-nl/sports/volleybal/servi-superliga/SBTC3_82182\n",
      "/nl-nl/sports/volleybal/sloveni-1a-league/SBTC3_83602\n",
      "/nl-nl/sports/volleybal/sloveni-1a-league-vrouwen/SBTC3_38531\n",
      "/nl-nl/sports/volleybal/spanje-superliga/SBTC3_82248\n",
      "/nl-nl/sports/volleybal/tsjechi-extraliga/SBTC3_82250\n",
      "/nl-nl/sports/volleybal/zuid-korea-v-league/SBTC3_82220\n",
      "/nl-nl/sports/volleybal/zuid-korea-v-league-vrouwen/SBTC3_82185\n"
     ]
    }
   ],
   "source": [
    "for link in links:\n",
    "    print(link.get('href'))"
   ]
  },
  {
   "cell_type": "code",
   "execution_count": 10,
   "id": "ca57324d",
   "metadata": {},
   "outputs": [
    {
     "name": "stdout",
     "output_type": "stream",
     "text": [
      "['https://www.livescorebet.com/nl-nl/sports/volleybal/SBTC1_19']\n"
     ]
    }
   ],
   "source": [
    "def get_links():\n",
    "    links = []\n",
    "    for link in soup.find_all('a', href=True):\n",
    "        if link['href'].startswith(\"/nl-nl/sports/volleybal/SBTC1_19\"):\n",
    "            links.append(base_url + link['href'])\n",
    "    return links\n",
    "\n",
    "links = get_links()\n",
    "print(links)"
   ]
  },
  {
   "cell_type": "code",
   "execution_count": 11,
   "id": "0a0499c6",
   "metadata": {},
   "outputs": [
    {
     "name": "stdout",
     "output_type": "stream",
     "text": [
      "['https://www.livescorebet.com/nl-nl/sports/volleybal/argentini-serie-a1-vrouwen/SBTC3_68995', 'https://www.livescorebet.com/nl-nl/sports/volleybal/brazili-superliga/SBTC3_29090', 'https://www.livescorebet.com/nl-nl/sports/volleybal/duitsland-bundesliga/SBTC3_69364', 'https://www.livescorebet.com/nl-nl/sports/volleybal/duitsland-bundesliga-vrouwen/SBTC3_82733', 'https://www.livescorebet.com/nl-nl/sports/volleybal/duitsland-2e-bundesliga-vrouwen/SBTC3_30536', 'https://www.livescorebet.com/nl-nl/sports/volleybal/finland-mestaruusliiga-vrouwen/SBTC3_82259', 'https://www.livescorebet.com/nl-nl/sports/volleybal/frankrijk-pro-a/SBTC3_82527', 'https://www.livescorebet.com/nl-nl/sports/volleybal/frankrijk-pro-a-vrouwen/SBTC3_82638', 'https://www.livescorebet.com/nl-nl/sports/volleybal/frankrijk-pro-b/SBTC3_37986', 'https://www.livescorebet.com/nl-nl/sports/volleybal/griekenland-a1/SBTC3_82736', 'https://www.livescorebet.com/nl-nl/sports/volleybal/indonesi-proliga/SBTC3_88183', 'https://www.livescorebet.com/nl-nl/sports/volleybal/itali-campeonato-a1/SBTC3_24876', 'https://www.livescorebet.com/nl-nl/sports/volleybal/itali-a1-vrouwen/SBTC3_69561', 'https://www.livescorebet.com/nl-nl/sports/volleybal/itali-campeonato-a2/SBTC3_81369', 'https://www.livescorebet.com/nl-nl/sports/volleybal/itali-a2-vrouwen/SBTC3_82307', 'https://www.livescorebet.com/nl-nl/sports/volleybal/japan-v-league/SBTC3_82731', 'https://www.livescorebet.com/nl-nl/sports/volleybal/japan-v-league-vrouwen/SBTC3_27718', 'https://www.livescorebet.com/nl-nl/sports/volleybal/oostenrijk-1-bundesliga/SBTC3_27604', 'https://www.livescorebet.com/nl-nl/sports/volleybal/oostenrijk-1-bundesliga-vrouwen/SBTC3_79599', 'https://www.livescorebet.com/nl-nl/sports/volleybal/polen-pls/SBTC3_44715', 'https://www.livescorebet.com/nl-nl/sports/volleybal/polen-orlen-liga-vrouwen/SBTC3_44714', 'https://www.livescorebet.com/nl-nl/sports/volleybal/portugal-a1-masculino/SBTC3_83629', 'https://www.livescorebet.com/nl-nl/sports/volleybal/portugal-a1-vrouwen/SBTC3_93576', 'https://www.livescorebet.com/nl-nl/sports/volleybal/servi-superliga/SBTC3_82182', 'https://www.livescorebet.com/nl-nl/sports/volleybal/sloveni-1a-league/SBTC3_83602', 'https://www.livescorebet.com/nl-nl/sports/volleybal/sloveni-1a-league-vrouwen/SBTC3_38531', 'https://www.livescorebet.com/nl-nl/sports/volleybal/spanje-superliga/SBTC3_82248', 'https://www.livescorebet.com/nl-nl/sports/volleybal/tsjechi-extraliga/SBTC3_82250', 'https://www.livescorebet.com/nl-nl/sports/volleybal/zuid-korea-v-league/SBTC3_82220', 'https://www.livescorebet.com/nl-nl/sports/volleybal/zuid-korea-v-league-vrouwen/SBTC3_82185']\n"
     ]
    }
   ],
   "source": [
    "def get_links(class_name):\n",
    "    links = []\n",
    "    for link in soup.find_all(class_=class_name, href=True):\n",
    "        links.append(base_url + link['href'])\n",
    "    return links\n",
    "\n",
    "links = get_links(\"sc-1dob51z-0 kTvekW sc-10e4yro-1 esgLjE\")\n",
    "print(links)"
   ]
  },
  {
   "cell_type": "code",
   "execution_count": 14,
   "id": "220369ba",
   "metadata": {},
   "outputs": [],
   "source": [
    "with open('links.txt', 'w') as f:\n",
    "    for link in links:\n",
    "        #write new line\n",
    "        f.write(link + \"\\n\")"
   ]
  },
  {
   "cell_type": "code",
   "execution_count": 13,
   "id": "083f880e",
   "metadata": {},
   "outputs": [
    {
     "data": {
      "text/plain": [
       "30"
      ]
     },
     "execution_count": 13,
     "metadata": {},
     "output_type": "execute_result"
    }
   ],
   "source": [
    "len(links)"
   ]
  },
  {
   "cell_type": "code",
   "execution_count": 15,
   "id": "620c2bf9",
   "metadata": {},
   "outputs": [
    {
     "name": "stderr",
     "output_type": "stream",
     "text": [
      "C:\\Users\\root\\AppData\\Local\\Temp\\ipykernel_1196\\3390910016.py:15: DeprecationWarning: executable_path has been deprecated, please pass in a Service object\n",
      "  driver = webdriver.Chrome(executable_path=executable_path)\n"
     ]
    }
   ],
   "source": [
    "from selenium import webdriver\n",
    "from selenium.webdriver.common.by import By\n",
    "from selenium.webdriver.common.keys import Keys\n",
    "from bs4 import BeautifulSoup\n",
    "import time\n",
    "from time import sleep\n",
    "from random import randint\n",
    "import pandas as pd\n",
    "\n",
    "executable_path = \"C:\\webdriver\\chromedriver.exe\"\n",
    "\n",
    "url = \"https://www.livescorebet.com/nl-nl/sports/volleybal/SBTC1_19\"\n",
    "\n",
    "try:\n",
    "    driver = webdriver.Chrome(executable_path=executable_path)\n",
    "except:\n",
    "    driver = webdriver.Chrome()\n",
    "    \n",
    "driver.get(url)\n",
    "sleep(randint(2,10))\n",
    "soup = BeautifulSoup(driver.page_source, 'html.parser')\n",
    "\n",
    "base_url = \"https://www.livescorebet.com\"\n",
    "\n",
    "\n",
    "def get_links(class_name):\n",
    "    links = []\n",
    "    for link in soup.find_all(class_=class_name, href=True):\n",
    "        links.append(base_url + link['href'])\n",
    "    return links\n",
    "match_class = \"sc-1dob51z-0 kTvekW sc-10e4yro-1 esgLjE\"\n",
    "links = get_links(match_class)\n",
    "# write the links in a txt file \n",
    "with open('links.txt', 'w') as f:\n",
    "    for link in links:\n",
    "        #write new line\n",
    "        f.write(link + \"\\n\")"
   ]
  },
  {
   "cell_type": "code",
   "execution_count": null,
   "id": "29445b0f",
   "metadata": {},
   "outputs": [],
   "source": []
  }
 ],
 "metadata": {
  "kernelspec": {
   "display_name": "Python 3",
   "language": "python",
   "name": "python3"
  },
  "language_info": {
   "codemirror_mode": {
    "name": "ipython",
    "version": 3
   },
   "file_extension": ".py",
   "mimetype": "text/x-python",
   "name": "python",
   "nbconvert_exporter": "python",
   "pygments_lexer": "ipython3",
   "version": "3.10.4"
  },
  "vscode": {
   "interpreter": {
    "hash": "3ad933181bd8a04b432d3370b9dc3b0662ad032c4dfaa4e4f1596c548f763858"
   }
  }
 },
 "nbformat": 4,
 "nbformat_minor": 5
}
